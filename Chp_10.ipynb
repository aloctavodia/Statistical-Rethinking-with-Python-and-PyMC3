{
 "cells": [
  {
   "cell_type": "code",
   "execution_count": 103,
   "metadata": {
    "collapsed": true
   },
   "outputs": [],
   "source": [
    "%matplotlib inline\n",
    "import pymc3 as pm\n",
    "import numpy as np\n",
    "import pandas as pd\n",
    "from scipy import stats\n",
    "from scipy.special import expit as logistic\n",
    "import seaborn as sns\n",
    "import matplotlib.pyplot as plt\n",
    "\n",
    "%config InlineBackend.figure_format = 'retina'\n",
    "plt.style.use(['seaborn-colorblind', 'seaborn-darkgrid'])"
   ]
  },
  {
   "cell_type": "markdown",
   "metadata": {},
   "source": [
    "#### Code 10.1"
   ]
  },
  {
   "cell_type": "code",
   "execution_count": 2,
   "metadata": {
    "collapsed": true
   },
   "outputs": [],
   "source": [
    "d = pd.read_csv('Data/chimpanzees.csv', sep=\";\")\n",
    "# we change \"actor\" to zero-index\n",
    "d.actor = d.actor - 1"
   ]
  },
  {
   "cell_type": "markdown",
   "metadata": {},
   "source": [
    "#### Code 10.2"
   ]
  },
  {
   "cell_type": "code",
   "execution_count": 3,
   "metadata": {},
   "outputs": [
    {
     "name": "stderr",
     "output_type": "stream",
     "text": [
      "Auto-assigning NUTS sampler...\n",
      "Initializing NUTS using jitter+adapt_diag...\n",
      "100%|██████████| 2000/2000 [00:01<00:00, 1158.85it/s]\n"
     ]
    }
   ],
   "source": [
    "with pm.Model() as model_10_1:\n",
    "    a = pm.Normal('a', 0, 10)\n",
    "    bp = pm.Normal('bp', 0, 10)\n",
    "    p = pm.math.invlogit(a)    \n",
    "    pulled_left = pm.Binomial('pulled_left', 1, p, observed=d.pulled_left)\n",
    "\n",
    "    trace_10_1 = pm.sample(1000, tune=1000)"
   ]
  },
  {
   "cell_type": "code",
   "execution_count": 28,
   "metadata": {},
   "outputs": [
    {
     "data": {
      "text/html": [
       "<div>\n",
       "<style>\n",
       "    .dataframe thead tr:only-child th {\n",
       "        text-align: right;\n",
       "    }\n",
       "\n",
       "    .dataframe thead th {\n",
       "        text-align: left;\n",
       "    }\n",
       "\n",
       "    .dataframe tbody tr th {\n",
       "        vertical-align: top;\n",
       "    }\n",
       "</style>\n",
       "<table border=\"1\" class=\"dataframe\">\n",
       "  <thead>\n",
       "    <tr style=\"text-align: right;\">\n",
       "      <th></th>\n",
       "      <th>mean</th>\n",
       "      <th>sd</th>\n",
       "      <th>mc_error</th>\n",
       "      <th>hpd_5.5</th>\n",
       "      <th>hpd_94.5</th>\n",
       "      <th>n_eff</th>\n",
       "      <th>Rhat</th>\n",
       "    </tr>\n",
       "  </thead>\n",
       "  <tbody>\n",
       "    <tr>\n",
       "      <th>a</th>\n",
       "      <td>0.32</td>\n",
       "      <td>0.09</td>\n",
       "      <td>0.00</td>\n",
       "      <td>0.16</td>\n",
       "      <td>0.46</td>\n",
       "      <td>1735.0</td>\n",
       "      <td>1.0</td>\n",
       "    </tr>\n",
       "    <tr>\n",
       "      <th>bp</th>\n",
       "      <td>0.06</td>\n",
       "      <td>9.97</td>\n",
       "      <td>0.21</td>\n",
       "      <td>-15.99</td>\n",
       "      <td>15.54</td>\n",
       "      <td>2000.0</td>\n",
       "      <td>1.0</td>\n",
       "    </tr>\n",
       "  </tbody>\n",
       "</table>\n",
       "</div>"
      ],
      "text/plain": [
       "    mean    sd  mc_error  hpd_5.5  hpd_94.5   n_eff  Rhat\n",
       "a   0.32  0.09      0.00     0.16      0.46  1735.0   1.0\n",
       "bp  0.06  9.97      0.21   -15.99     15.54  2000.0   1.0"
      ]
     },
     "execution_count": 28,
     "metadata": {},
     "output_type": "execute_result"
    }
   ],
   "source": [
    "df_10_1 = pm.summary(trace_10_1, alpha=.11)\n",
    "df_10_1.round(2)"
   ]
  },
  {
   "cell_type": "markdown",
   "metadata": {},
   "source": [
    "#### Code 10.3"
   ]
  },
  {
   "cell_type": "code",
   "execution_count": 8,
   "metadata": {},
   "outputs": [
    {
     "data": {
      "text/html": [
       "<div>\n",
       "<style>\n",
       "    .dataframe thead tr:only-child th {\n",
       "        text-align: right;\n",
       "    }\n",
       "\n",
       "    .dataframe thead th {\n",
       "        text-align: left;\n",
       "    }\n",
       "\n",
       "    .dataframe tbody tr th {\n",
       "        vertical-align: top;\n",
       "    }\n",
       "</style>\n",
       "<table border=\"1\" class=\"dataframe\">\n",
       "  <thead>\n",
       "    <tr style=\"text-align: right;\">\n",
       "      <th></th>\n",
       "      <th>hpd_5.5</th>\n",
       "      <th>hpd_94.5</th>\n",
       "    </tr>\n",
       "  </thead>\n",
       "  <tbody>\n",
       "    <tr>\n",
       "      <th>a</th>\n",
       "      <td>0.54033</td>\n",
       "      <td>0.61261</td>\n",
       "    </tr>\n",
       "    <tr>\n",
       "      <th>bp</th>\n",
       "      <td>0.00000</td>\n",
       "      <td>1.00000</td>\n",
       "    </tr>\n",
       "  </tbody>\n",
       "</table>\n",
       "</div>"
      ],
      "text/plain": [
       "    hpd_5.5  hpd_94.5\n",
       "a   0.54033   0.61261\n",
       "bp  0.00000   1.00000"
      ]
     },
     "execution_count": 8,
     "metadata": {},
     "output_type": "execute_result"
    }
   ],
   "source": [
    "logistic(df_10_1.iloc[:,3:5]).round(5)"
   ]
  },
  {
   "cell_type": "markdown",
   "metadata": {},
   "source": [
    "#### Code 10.4"
   ]
  },
  {
   "cell_type": "code",
   "execution_count": 9,
   "metadata": {},
   "outputs": [
    {
     "name": "stderr",
     "output_type": "stream",
     "text": [
      "Auto-assigning NUTS sampler...\n",
      "INFO:pymc3:Auto-assigning NUTS sampler...\n",
      "Initializing NUTS using jitter+adapt_diag...\n",
      "INFO:pymc3:Initializing NUTS using jitter+adapt_diag...\n",
      "100%|██████████| 2000/2000 [00:03<00:00, 504.53it/s]\n",
      "Auto-assigning NUTS sampler...\n",
      "INFO:pymc3:Auto-assigning NUTS sampler...\n",
      "Initializing NUTS using jitter+adapt_diag...\n",
      "INFO:pymc3:Initializing NUTS using jitter+adapt_diag...\n",
      "100%|██████████| 2000/2000 [00:04<00:00, 492.58it/s]\n"
     ]
    }
   ],
   "source": [
    "with pm.Model() as model_10_2:\n",
    "    a = pm.Normal('a', 0, 10)\n",
    "    bp = pm.Normal('bp', 0, 10)\n",
    "    p = pm.math.invlogit(a + bp * d.prosoc_left)\n",
    "    pulled_left = pm.Binomial('pulled_left', 1, p, observed=d.pulled_left)\n",
    "\n",
    "    trace_10_2 = pm.sample(1000, tune=1000)\n",
    "\n",
    "with pm.Model() as model_10_3:\n",
    "    a = pm.Normal('a', 0, 10)\n",
    "    bp = pm.Normal('bp', 0, 10)\n",
    "    bpC = pm.Normal('bpC', 0, 10)\n",
    "    p = pm.math.invlogit(a + (bp + bpC * d.condition) * d.prosoc_left)\n",
    "    pulled_left = pm.Binomial('pulled_left', 1, p, observed=d.pulled_left)\n",
    "\n",
    "    trace_10_3 = pm.sample(1000, tune=1000)"
   ]
  },
  {
   "cell_type": "markdown",
   "metadata": {},
   "source": [
    "#### Code 10.5"
   ]
  },
  {
   "cell_type": "code",
   "execution_count": 45,
   "metadata": {},
   "outputs": [
    {
     "data": {
      "text/html": [
       "<div>\n",
       "<style>\n",
       "    .dataframe thead tr:only-child th {\n",
       "        text-align: right;\n",
       "    }\n",
       "\n",
       "    .dataframe thead th {\n",
       "        text-align: left;\n",
       "    }\n",
       "\n",
       "    .dataframe tbody tr th {\n",
       "        vertical-align: top;\n",
       "    }\n",
       "</style>\n",
       "<table border=\"1\" class=\"dataframe\">\n",
       "  <thead>\n",
       "    <tr style=\"text-align: right;\">\n",
       "      <th></th>\n",
       "      <th>WAIC</th>\n",
       "      <th>pWAIC</th>\n",
       "      <th>dWAIC</th>\n",
       "      <th>weight</th>\n",
       "      <th>SE</th>\n",
       "      <th>dSE</th>\n",
       "      <th>warning</th>\n",
       "    </tr>\n",
       "    <tr>\n",
       "      <th>model</th>\n",
       "      <th></th>\n",
       "      <th></th>\n",
       "      <th></th>\n",
       "      <th></th>\n",
       "      <th></th>\n",
       "      <th></th>\n",
       "      <th></th>\n",
       "    </tr>\n",
       "  </thead>\n",
       "  <tbody>\n",
       "    <tr>\n",
       "      <th>m10.2</th>\n",
       "      <td>680.78</td>\n",
       "      <td>2.14</td>\n",
       "      <td>0</td>\n",
       "      <td>0.68</td>\n",
       "      <td>9.33</td>\n",
       "      <td>0</td>\n",
       "      <td>0</td>\n",
       "    </tr>\n",
       "    <tr>\n",
       "      <th>m10.3</th>\n",
       "      <td>682.41</td>\n",
       "      <td>3.03</td>\n",
       "      <td>1.63</td>\n",
       "      <td>0.3</td>\n",
       "      <td>9.36</td>\n",
       "      <td>0.75</td>\n",
       "      <td>0</td>\n",
       "    </tr>\n",
       "    <tr>\n",
       "      <th>m10.1</th>\n",
       "      <td>688.07</td>\n",
       "      <td>1.06</td>\n",
       "      <td>7.28</td>\n",
       "      <td>0.02</td>\n",
       "      <td>7.07</td>\n",
       "      <td>6.19</td>\n",
       "      <td>0</td>\n",
       "    </tr>\n",
       "  </tbody>\n",
       "</table>\n",
       "</div>"
      ],
      "text/plain": [
       "         WAIC pWAIC dWAIC weight    SE   dSE warning\n",
       "model                                               \n",
       "m10.2  680.78  2.14     0   0.68  9.33     0       0\n",
       "m10.3  682.41  3.03  1.63    0.3  9.36  0.75       0\n",
       "m10.1  688.07  1.06  7.28   0.02  7.07  6.19       0"
      ]
     },
     "execution_count": 45,
     "metadata": {},
     "output_type": "execute_result"
    }
   ],
   "source": [
    "comp_df = pm.compare(traces=[trace_10_1, trace_10_2, trace_10_3],\n",
    "                     models=[model_10_1, model_10_2, model_10_3],\n",
    "                     method='pseudo-BMA')\n",
    "\n",
    "comp_df.loc[:,'model'] = pd.Series(['m10.1', 'm10.2', 'm10.3'])\n",
    "comp_df = comp_df.set_index('model')\n",
    "comp_df"
   ]
  },
  {
   "cell_type": "code",
   "execution_count": 46,
   "metadata": {},
   "outputs": [
    {
     "data": {
      "image/png": "[encoded data removed]",
      "text/plain": [
       "<matplotlib.figure.Figure at 0x11cac3cf8>"
      ]
     },
     "metadata": {
      "image/png": {
       "height": 261,
       "width": 380
      }
     },
     "output_type": "display_data"
    }
   ],
   "source": [
    "pm.compareplot(comp_df);"
   ]
  },
  {
   "cell_type": "markdown",
   "metadata": {},
   "source": [
    "#### Code 10.6"
   ]
  },
  {
   "cell_type": "code",
   "execution_count": 47,
   "metadata": {},
   "outputs": [
    {
     "data": {
      "text/html": [
       "<div>\n",
       "<style>\n",
       "    .dataframe thead tr:only-child th {\n",
       "        text-align: right;\n",
       "    }\n",
       "\n",
       "    .dataframe thead th {\n",
       "        text-align: left;\n",
       "    }\n",
       "\n",
       "    .dataframe tbody tr th {\n",
       "        vertical-align: top;\n",
       "    }\n",
       "</style>\n",
       "<table border=\"1\" class=\"dataframe\">\n",
       "  <thead>\n",
       "    <tr style=\"text-align: right;\">\n",
       "      <th></th>\n",
       "      <th>mean</th>\n",
       "      <th>sd</th>\n",
       "      <th>mc_error</th>\n",
       "      <th>hpd_5.5</th>\n",
       "      <th>hpd_94.5</th>\n",
       "      <th>n_eff</th>\n",
       "      <th>Rhat</th>\n",
       "    </tr>\n",
       "  </thead>\n",
       "  <tbody>\n",
       "    <tr>\n",
       "      <th>a</th>\n",
       "      <td>0.04</td>\n",
       "      <td>0.13</td>\n",
       "      <td>0.00</td>\n",
       "      <td>-0.15</td>\n",
       "      <td>0.26</td>\n",
       "      <td>1529.0</td>\n",
       "      <td>1.0</td>\n",
       "    </tr>\n",
       "    <tr>\n",
       "      <th>bp</th>\n",
       "      <td>0.61</td>\n",
       "      <td>0.23</td>\n",
       "      <td>0.01</td>\n",
       "      <td>0.23</td>\n",
       "      <td>0.95</td>\n",
       "      <td>1292.0</td>\n",
       "      <td>1.0</td>\n",
       "    </tr>\n",
       "    <tr>\n",
       "      <th>bpC</th>\n",
       "      <td>-0.10</td>\n",
       "      <td>0.26</td>\n",
       "      <td>0.01</td>\n",
       "      <td>-0.57</td>\n",
       "      <td>0.27</td>\n",
       "      <td>1107.0</td>\n",
       "      <td>1.0</td>\n",
       "    </tr>\n",
       "  </tbody>\n",
       "</table>\n",
       "</div>"
      ],
      "text/plain": [
       "     mean    sd  mc_error  hpd_5.5  hpd_94.5   n_eff  Rhat\n",
       "a    0.04  0.13      0.00    -0.15      0.26  1529.0   1.0\n",
       "bp   0.61  0.23      0.01     0.23      0.95  1292.0   1.0\n",
       "bpC -0.10  0.26      0.01    -0.57      0.27  1107.0   1.0"
      ]
     },
     "execution_count": 47,
     "metadata": {},
     "output_type": "execute_result"
    }
   ],
   "source": [
    "pm.summary(trace_10_3, alpha=.11).round(2)"
   ]
  },
  {
   "cell_type": "markdown",
   "metadata": {},
   "source": [
    "#### Code 10.7"
   ]
  },
  {
   "cell_type": "code",
   "execution_count": 13,
   "metadata": {},
   "outputs": [
    {
     "data": {
      "text/plain": [
       "1.8404313987816374"
      ]
     },
     "execution_count": 13,
     "metadata": {},
     "output_type": "execute_result"
    }
   ],
   "source": [
    "np.exp(0.61)"
   ]
  },
  {
   "cell_type": "markdown",
   "metadata": {},
   "source": [
    "#### Code 10.8"
   ]
  },
  {
   "cell_type": "code",
   "execution_count": 14,
   "metadata": {},
   "outputs": [
    {
     "data": {
      "text/plain": [
       "0.98201379003790845"
      ]
     },
     "execution_count": 14,
     "metadata": {},
     "output_type": "execute_result"
    }
   ],
   "source": [
    "logistic(4)"
   ]
  },
  {
   "cell_type": "markdown",
   "metadata": {},
   "source": [
    "#### Code 10.9"
   ]
  },
  {
   "cell_type": "code",
   "execution_count": 15,
   "metadata": {},
   "outputs": [
    {
     "data": {
      "text/plain": [
       "0.99014624447676869"
      ]
     },
     "execution_count": 15,
     "metadata": {},
     "output_type": "execute_result"
    }
   ],
   "source": [
    "logistic(4 + 0.61)"
   ]
  },
  {
   "cell_type": "markdown",
   "metadata": {},
   "source": [
    "#### Code 10.10 and 10.11"
   ]
  },
  {
   "cell_type": "code",
   "execution_count": 16,
   "metadata": {},
   "outputs": [
    {
     "name": "stderr",
     "output_type": "stream",
     "text": [
      "100%|██████████| 1000/1000 [00:05<00:00, 198.48it/s]\n"
     ]
    }
   ],
   "source": [
    "d_pred = pd.DataFrame({'prosoc_left' : [0, 1, 0, 1], 'condition' : [0, 0, 1, 1]})\n",
    "traces = [trace_10_1, trace_10_2, trace_10_3]\n",
    "models = [model_10_1, model_10_2, model_10_3]\n",
    "\n",
    "\n",
    "chimp_ensemble = pm.sample_ppc_w(traces=traces, models=models, samples=1000, \n",
    "                                 weights=comp_df.weight.sort_index(ascending=True))"
   ]
  },
  {
   "cell_type": "code",
   "execution_count": 17,
   "metadata": {},
   "outputs": [
    {
     "data": {
      "image/png": "[encoded data removed]",
      "text/plain": [
       "<matplotlib.figure.Figure at 0x112980198>"
      ]
     },
     "metadata": {
      "image/png": {
       "height": 244,
       "width": 366
      }
     },
     "output_type": "display_data"
    }
   ],
   "source": [
    "rt = chimp_ensemble['pulled_left']\n",
    "pred_mean = np.zeros((1000, 4))\n",
    "cond = d.condition.unique()\n",
    "prosoc_l = d.prosoc_left.unique()\n",
    "for i in range(len(rt)):\n",
    "    tmp = []\n",
    "    for cp in cond:\n",
    "        for pl in prosoc_l:\n",
    "            tmp.append(np.mean(rt[i][(d.prosoc_left==pl) & (d.chose_prosoc==cp)]))\n",
    "    pred_mean[i] = tmp\n",
    "    \n",
    "ticks = range(4)\n",
    "mp = pred_mean.mean(0)\n",
    "hpd = pm.hpd(pred_mean)\n",
    "plt.fill_between(ticks, hpd[:,1], hpd[:,0], alpha=0.25, color='k')\n",
    "plt.plot(mp, color='k')\n",
    "plt.xticks(ticks, (\"0/0\",\"1/0\",\"0/1\",\"1/1\"))\n",
    "chimps = d.groupby(['actor', 'prosoc_left', 'condition']).agg('mean')['pulled_left'].values.reshape(7, -1)\n",
    "for i in range(7):\n",
    "    plt.plot(chimps[i], 'C0')\n",
    "\n",
    "plt.ylim(0, 1.1);"
   ]
  },
  {
   "cell_type": "markdown",
   "metadata": {},
   "source": [
    "#### Code 10.12 & 10.13\n",
    "This is the same as 10.6, but in the book using MCMC rather than quadratic approximation."
   ]
  },
  {
   "cell_type": "markdown",
   "metadata": {},
   "source": [
    "#### Code 10.14"
   ]
  },
  {
   "cell_type": "code",
   "execution_count": 18,
   "metadata": {},
   "outputs": [
    {
     "name": "stderr",
     "output_type": "stream",
     "text": [
      "Auto-assigning NUTS sampler...\n",
      "INFO:pymc3:Auto-assigning NUTS sampler...\n",
      "Initializing NUTS using jitter+adapt_diag...\n",
      "INFO:pymc3:Initializing NUTS using jitter+adapt_diag...\n",
      "100%|█████████▉| 1993/2000 [00:06<00:00, 328.01it/s]/Users/jlao/Documents/Github/pymc3/pymc3/step_methods/hmc/nuts.py:468: UserWarning: Chain 0 contains 3 diverging samples after tuning. If increasing `target_accept` does not help try to reparameterize.\n",
      "  % (self._chain_id, n_diverging))\n",
      "100%|██████████| 2000/2000 [00:06<00:00, 302.80it/s]\n",
      "/Users/jlao/Documents/Github/pymc3/pymc3/step_methods/hmc/nuts.py:468: UserWarning: Chain 1 contains 9 diverging samples after tuning. If increasing `target_accept` does not help try to reparameterize.\n",
      "  % (self._chain_id, n_diverging))\n"
     ]
    }
   ],
   "source": [
    "with pm.Model() as model_10_4:\n",
    "    a = pm.Normal('alpha', 0, 10, shape=len(d.actor.unique()))\n",
    "    bp = pm.Normal('bp', 0, 10)\n",
    "    bpC = pm.Normal('bpC', 0, 10)\n",
    "    p = pm.math.invlogit(a[d.actor.values] + (bp + bpC * d.condition) * d.prosoc_left)\n",
    "    pulled_left = pm.Binomial('pulled_left', 1, p, observed=d.pulled_left)\n",
    "\n",
    "    trace_10_4 = pm.sample(1000, tune=1000)"
   ]
  },
  {
   "cell_type": "markdown",
   "metadata": {},
   "source": [
    "#### Code 10.15"
   ]
  },
  {
   "cell_type": "code",
   "execution_count": 19,
   "metadata": {},
   "outputs": [
    {
     "data": {
      "text/plain": [
       "array([0, 1, 2, 3, 4, 5, 6])"
      ]
     },
     "execution_count": 19,
     "metadata": {},
     "output_type": "execute_result"
    }
   ],
   "source": [
    "# remember we use a zero-index\n",
    "d['actor'].unique()"
   ]
  },
  {
   "cell_type": "markdown",
   "metadata": {},
   "source": [
    "#### Code 10.16"
   ]
  },
  {
   "cell_type": "code",
   "execution_count": 20,
   "metadata": {},
   "outputs": [
    {
     "data": {
      "text/html": [
       "<div>\n",
       "<style>\n",
       "    .dataframe thead tr:only-child th {\n",
       "        text-align: right;\n",
       "    }\n",
       "\n",
       "    .dataframe thead th {\n",
       "        text-align: left;\n",
       "    }\n",
       "\n",
       "    .dataframe tbody tr th {\n",
       "        vertical-align: top;\n",
       "    }\n",
       "</style>\n",
       "<table border=\"1\" class=\"dataframe\">\n",
       "  <thead>\n",
       "    <tr style=\"text-align: right;\">\n",
       "      <th></th>\n",
       "      <th>mean</th>\n",
       "      <th>sd</th>\n",
       "      <th>mc_error</th>\n",
       "      <th>hpd_5.5</th>\n",
       "      <th>hpd_94.5</th>\n",
       "      <th>n_eff</th>\n",
       "      <th>Rhat</th>\n",
       "    </tr>\n",
       "  </thead>\n",
       "  <tbody>\n",
       "    <tr>\n",
       "      <th>alpha__0</th>\n",
       "      <td>-0.73</td>\n",
       "      <td>0.27</td>\n",
       "      <td>0.01</td>\n",
       "      <td>-1.18</td>\n",
       "      <td>-0.32</td>\n",
       "      <td>1654.0</td>\n",
       "      <td>1.0</td>\n",
       "    </tr>\n",
       "    <tr>\n",
       "      <th>alpha__1</th>\n",
       "      <td>10.95</td>\n",
       "      <td>5.13</td>\n",
       "      <td>0.17</td>\n",
       "      <td>3.39</td>\n",
       "      <td>17.98</td>\n",
       "      <td>657.0</td>\n",
       "      <td>1.0</td>\n",
       "    </tr>\n",
       "    <tr>\n",
       "      <th>alpha__2</th>\n",
       "      <td>-1.05</td>\n",
       "      <td>0.28</td>\n",
       "      <td>0.01</td>\n",
       "      <td>-1.50</td>\n",
       "      <td>-0.61</td>\n",
       "      <td>2000.0</td>\n",
       "      <td>1.0</td>\n",
       "    </tr>\n",
       "    <tr>\n",
       "      <th>alpha__3</th>\n",
       "      <td>-1.05</td>\n",
       "      <td>0.29</td>\n",
       "      <td>0.01</td>\n",
       "      <td>-1.53</td>\n",
       "      <td>-0.60</td>\n",
       "      <td>1611.0</td>\n",
       "      <td>1.0</td>\n",
       "    </tr>\n",
       "    <tr>\n",
       "      <th>alpha__4</th>\n",
       "      <td>-0.74</td>\n",
       "      <td>0.27</td>\n",
       "      <td>0.01</td>\n",
       "      <td>-1.20</td>\n",
       "      <td>-0.32</td>\n",
       "      <td>1549.0</td>\n",
       "      <td>1.0</td>\n",
       "    </tr>\n",
       "    <tr>\n",
       "      <th>alpha__5</th>\n",
       "      <td>0.22</td>\n",
       "      <td>0.27</td>\n",
       "      <td>0.01</td>\n",
       "      <td>-0.17</td>\n",
       "      <td>0.67</td>\n",
       "      <td>2000.0</td>\n",
       "      <td>1.0</td>\n",
       "    </tr>\n",
       "    <tr>\n",
       "      <th>alpha__6</th>\n",
       "      <td>1.81</td>\n",
       "      <td>0.39</td>\n",
       "      <td>0.01</td>\n",
       "      <td>1.15</td>\n",
       "      <td>2.38</td>\n",
       "      <td>1170.0</td>\n",
       "      <td>1.0</td>\n",
       "    </tr>\n",
       "    <tr>\n",
       "      <th>bp</th>\n",
       "      <td>0.83</td>\n",
       "      <td>0.27</td>\n",
       "      <td>0.01</td>\n",
       "      <td>0.40</td>\n",
       "      <td>1.25</td>\n",
       "      <td>1108.0</td>\n",
       "      <td>1.0</td>\n",
       "    </tr>\n",
       "    <tr>\n",
       "      <th>bpC</th>\n",
       "      <td>-0.13</td>\n",
       "      <td>0.29</td>\n",
       "      <td>0.01</td>\n",
       "      <td>-0.63</td>\n",
       "      <td>0.30</td>\n",
       "      <td>1567.0</td>\n",
       "      <td>1.0</td>\n",
       "    </tr>\n",
       "  </tbody>\n",
       "</table>\n",
       "</div>"
      ],
      "text/plain": [
       "           mean    sd  mc_error  hpd_5.5  hpd_94.5   n_eff  Rhat\n",
       "alpha__0  -0.73  0.27      0.01    -1.18     -0.32  1654.0   1.0\n",
       "alpha__1  10.95  5.13      0.17     3.39     17.98   657.0   1.0\n",
       "alpha__2  -1.05  0.28      0.01    -1.50     -0.61  2000.0   1.0\n",
       "alpha__3  -1.05  0.29      0.01    -1.53     -0.60  1611.0   1.0\n",
       "alpha__4  -0.74  0.27      0.01    -1.20     -0.32  1549.0   1.0\n",
       "alpha__5   0.22  0.27      0.01    -0.17      0.67  2000.0   1.0\n",
       "alpha__6   1.81  0.39      0.01     1.15      2.38  1170.0   1.0\n",
       "bp         0.83  0.27      0.01     0.40      1.25  1108.0   1.0\n",
       "bpC       -0.13  0.29      0.01    -0.63      0.30  1567.0   1.0"
      ]
     },
     "execution_count": 20,
     "metadata": {},
     "output_type": "execute_result"
    }
   ],
   "source": [
    "pm.summary(trace_10_4, alpha=.11).round(2)"
   ]
  },
  {
   "cell_type": "markdown",
   "metadata": {},
   "source": [
    "#### Code 10.17"
   ]
  },
  {
   "cell_type": "code",
   "execution_count": 21,
   "metadata": {},
   "outputs": [
    {
     "data": {
      "text/html": [
       "<div>\n",
       "<style>\n",
       "    .dataframe thead tr:only-child th {\n",
       "        text-align: right;\n",
       "    }\n",
       "\n",
       "    .dataframe thead th {\n",
       "        text-align: left;\n",
       "    }\n",
       "\n",
       "    .dataframe tbody tr th {\n",
       "        vertical-align: top;\n",
       "    }\n",
       "</style>\n",
       "<table border=\"1\" class=\"dataframe\">\n",
       "  <thead>\n",
       "    <tr style=\"text-align: right;\">\n",
       "      <th></th>\n",
       "      <th>bp</th>\n",
       "      <th>alpha__0</th>\n",
       "      <th>alpha__1</th>\n",
       "      <th>alpha__2</th>\n",
       "      <th>alpha__3</th>\n",
       "      <th>alpha__4</th>\n",
       "      <th>alpha__5</th>\n",
       "      <th>alpha__6</th>\n",
       "      <th>bpC</th>\n",
       "    </tr>\n",
       "  </thead>\n",
       "  <tbody>\n",
       "    <tr>\n",
       "      <th>0</th>\n",
       "      <td>0.826948</td>\n",
       "      <td>-0.453805</td>\n",
       "      <td>6.798732</td>\n",
       "      <td>-1.321877</td>\n",
       "      <td>-1.410739</td>\n",
       "      <td>-0.900078</td>\n",
       "      <td>0.023299</td>\n",
       "      <td>1.801892</td>\n",
       "      <td>0.060304</td>\n",
       "    </tr>\n",
       "    <tr>\n",
       "      <th>1</th>\n",
       "      <td>0.971233</td>\n",
       "      <td>-0.313065</td>\n",
       "      <td>8.927043</td>\n",
       "      <td>-1.156584</td>\n",
       "      <td>-1.380544</td>\n",
       "      <td>-0.864947</td>\n",
       "      <td>-0.020430</td>\n",
       "      <td>1.743289</td>\n",
       "      <td>-0.154011</td>\n",
       "    </tr>\n",
       "    <tr>\n",
       "      <th>2</th>\n",
       "      <td>1.034632</td>\n",
       "      <td>-0.915841</td>\n",
       "      <td>10.353582</td>\n",
       "      <td>-1.064340</td>\n",
       "      <td>-1.048493</td>\n",
       "      <td>-0.488500</td>\n",
       "      <td>0.083710</td>\n",
       "      <td>1.920801</td>\n",
       "      <td>-0.620934</td>\n",
       "    </tr>\n",
       "    <tr>\n",
       "      <th>3</th>\n",
       "      <td>0.749830</td>\n",
       "      <td>-0.726021</td>\n",
       "      <td>13.272325</td>\n",
       "      <td>-1.160336</td>\n",
       "      <td>-1.210154</td>\n",
       "      <td>-1.215686</td>\n",
       "      <td>0.245273</td>\n",
       "      <td>1.476772</td>\n",
       "      <td>0.012503</td>\n",
       "    </tr>\n",
       "    <tr>\n",
       "      <th>4</th>\n",
       "      <td>0.671512</td>\n",
       "      <td>-0.895466</td>\n",
       "      <td>18.441973</td>\n",
       "      <td>-0.979079</td>\n",
       "      <td>-0.941614</td>\n",
       "      <td>-0.310818</td>\n",
       "      <td>0.162826</td>\n",
       "      <td>1.968357</td>\n",
       "      <td>-0.225672</td>\n",
       "    </tr>\n",
       "  </tbody>\n",
       "</table>\n",
       "</div>"
      ],
      "text/plain": [
       "         bp  alpha__0   alpha__1  alpha__2  alpha__3  alpha__4  alpha__5  \\\n",
       "0  0.826948 -0.453805   6.798732 -1.321877 -1.410739 -0.900078  0.023299   \n",
       "1  0.971233 -0.313065   8.927043 -1.156584 -1.380544 -0.864947 -0.020430   \n",
       "2  1.034632 -0.915841  10.353582 -1.064340 -1.048493 -0.488500  0.083710   \n",
       "3  0.749830 -0.726021  13.272325 -1.160336 -1.210154 -1.215686  0.245273   \n",
       "4  0.671512 -0.895466  18.441973 -0.979079 -0.941614 -0.310818  0.162826   \n",
       "\n",
       "   alpha__6       bpC  \n",
       "0  1.801892  0.060304  \n",
       "1  1.743289 -0.154011  \n",
       "2  1.920801 -0.620934  \n",
       "3  1.476772  0.012503  \n",
       "4  1.968357 -0.225672  "
      ]
     },
     "execution_count": 21,
     "metadata": {},
     "output_type": "execute_result"
    }
   ],
   "source": [
    "post = pm.trace_to_dataframe(trace_10_4)\n",
    "post.head()"
   ]
  },
  {
   "cell_type": "markdown",
   "metadata": {},
   "source": [
    "#### Code 10.18"
   ]
  },
  {
   "cell_type": "code",
   "execution_count": 22,
   "metadata": {},
   "outputs": [
    {
     "data": {
      "image/png": "[encoded data removed]",
      "text/plain": [
       "<matplotlib.figure.Figure at 0x112b54eb8>"
      ]
     },
     "metadata": {
      "image/png": {
       "height": 244,
       "width": 377
      }
     },
     "output_type": "display_data"
    }
   ],
   "source": [
    "pm.kdeplot(post['alpha__1']);"
   ]
  },
  {
   "cell_type": "markdown",
   "metadata": {},
   "source": [
    "#### Code 10.19"
   ]
  },
  {
   "cell_type": "code",
   "execution_count": 23,
   "metadata": {},
   "outputs": [
    {
     "name": "stderr",
     "output_type": "stream",
     "text": [
      "100%|██████████| 1000/1000 [00:01<00:00, 504.91it/s]\n"
     ]
    }
   ],
   "source": [
    "rt = pm.sample_ppc(trace_10_4, 1000, model_10_4)['pulled_left']"
   ]
  },
  {
   "cell_type": "code",
   "execution_count": 24,
   "metadata": {},
   "outputs": [
    {
     "data": {
      "image/png": "[encoded data removed]",
      "text/plain": [
       "<matplotlib.figure.Figure at 0x112d770f0>"
      ]
     },
     "metadata": {
      "image/png": {
       "height": 244,
       "width": 366
      }
     },
     "output_type": "display_data"
    }
   ],
   "source": [
    "chimp = 2\n",
    "pred_mean = np.zeros((1000, 4))\n",
    "cond = d.condition.unique()\n",
    "prosoc_l = d.prosoc_left.unique()\n",
    "for i in range(len(rt)):\n",
    "    tmp = []\n",
    "    for cp in cond:\n",
    "        for pl in prosoc_l:\n",
    "            tmp.append(np.mean(rt[i][(d.prosoc_left == pl) & (d.chose_prosoc == cp) & (d.actor == chimp)]))\n",
    "    pred_mean[i] = tmp\n",
    "\n",
    "ticks = range(4)\n",
    "mp = pred_mean.mean(0)\n",
    "hpd = pm.hpd(pred_mean, alpha=0.11)\n",
    "plt.fill_between(ticks, hpd[:,1], hpd[:,0], alpha=0.25, color='k')\n",
    "plt.plot(mp, color='k')\n",
    "plt.xticks(ticks, (\"0/0\",\"1/0\",\"0/1\",\"1/1\"))\n",
    "chimps = d[d.actor == chimp].groupby(['condition', 'prosoc_left', ]).agg('mean')['pulled_left'].values\n",
    "plt.plot(chimps, 'C0')\n",
    "\n",
    "plt.ylim(0, 1.1);"
   ]
  },
  {
   "cell_type": "markdown",
   "metadata": {},
   "source": [
    "#### Code 10.20"
   ]
  },
  {
   "cell_type": "code",
   "execution_count": 26,
   "metadata": {},
   "outputs": [
    {
     "data": {
      "text/html": [
       "<div>\n",
       "<style>\n",
       "    .dataframe thead tr:only-child th {\n",
       "        text-align: right;\n",
       "    }\n",
       "\n",
       "    .dataframe thead th {\n",
       "        text-align: left;\n",
       "    }\n",
       "\n",
       "    .dataframe tbody tr th {\n",
       "        vertical-align: top;\n",
       "    }\n",
       "</style>\n",
       "<table border=\"1\" class=\"dataframe\">\n",
       "  <thead>\n",
       "    <tr style=\"text-align: right;\">\n",
       "      <th></th>\n",
       "      <th>actor</th>\n",
       "      <th>condition</th>\n",
       "      <th>prosoc_left</th>\n",
       "      <th>pulled_left</th>\n",
       "    </tr>\n",
       "  </thead>\n",
       "  <tbody>\n",
       "    <tr>\n",
       "      <th>0</th>\n",
       "      <td>0</td>\n",
       "      <td>0</td>\n",
       "      <td>0</td>\n",
       "      <td>6</td>\n",
       "    </tr>\n",
       "    <tr>\n",
       "      <th>1</th>\n",
       "      <td>0</td>\n",
       "      <td>0</td>\n",
       "      <td>1</td>\n",
       "      <td>9</td>\n",
       "    </tr>\n",
       "    <tr>\n",
       "      <th>2</th>\n",
       "      <td>0</td>\n",
       "      <td>1</td>\n",
       "      <td>0</td>\n",
       "      <td>5</td>\n",
       "    </tr>\n",
       "    <tr>\n",
       "      <th>3</th>\n",
       "      <td>0</td>\n",
       "      <td>1</td>\n",
       "      <td>1</td>\n",
       "      <td>10</td>\n",
       "    </tr>\n",
       "    <tr>\n",
       "      <th>4</th>\n",
       "      <td>1</td>\n",
       "      <td>0</td>\n",
       "      <td>0</td>\n",
       "      <td>18</td>\n",
       "    </tr>\n",
       "    <tr>\n",
       "      <th>5</th>\n",
       "      <td>1</td>\n",
       "      <td>0</td>\n",
       "      <td>1</td>\n",
       "      <td>18</td>\n",
       "    </tr>\n",
       "    <tr>\n",
       "      <th>6</th>\n",
       "      <td>1</td>\n",
       "      <td>1</td>\n",
       "      <td>0</td>\n",
       "      <td>18</td>\n",
       "    </tr>\n",
       "    <tr>\n",
       "      <th>7</th>\n",
       "      <td>1</td>\n",
       "      <td>1</td>\n",
       "      <td>1</td>\n",
       "      <td>18</td>\n",
       "    </tr>\n",
       "  </tbody>\n",
       "</table>\n",
       "</div>"
      ],
      "text/plain": [
       "   actor  condition  prosoc_left  pulled_left\n",
       "0      0          0            0            6\n",
       "1      0          0            1            9\n",
       "2      0          1            0            5\n",
       "3      0          1            1           10\n",
       "4      1          0            0           18\n",
       "5      1          0            1           18\n",
       "6      1          1            0           18\n",
       "7      1          1            1           18"
      ]
     },
     "execution_count": 26,
     "metadata": {},
     "output_type": "execute_result"
    }
   ],
   "source": [
    "d_aggregated = d.groupby(['actor', 'condition', 'prosoc_left',  ])['pulled_left'].sum().reset_index()\n",
    "d_aggregated.head(8)"
   ]
  },
  {
   "cell_type": "markdown",
   "metadata": {},
   "source": [
    "#### Code 10.21"
   ]
  },
  {
   "cell_type": "code",
   "execution_count": 27,
   "metadata": {},
   "outputs": [
    {
     "name": "stderr",
     "output_type": "stream",
     "text": [
      "Auto-assigning NUTS sampler...\n",
      "INFO:pymc3:Auto-assigning NUTS sampler...\n",
      "Initializing NUTS using jitter+adapt_diag...\n",
      "INFO:pymc3:Initializing NUTS using jitter+adapt_diag...\n",
      "100%|██████████| 2000/2000 [00:02<00:00, 716.58it/s]\n"
     ]
    }
   ],
   "source": [
    "with pm.Model() as model_10_5:\n",
    "    a = pm.Normal('alpha', 0, 10)\n",
    "    bp = pm.Normal('bp', 0, 10)\n",
    "    bpC = pm.Normal('bpC', 0, 10)\n",
    "    p = pm.math.invlogit(a + (bp + bpC * d_aggregated.condition) * d_aggregated.prosoc_left)\n",
    "    pulled_left = pm.Binomial('pulled_left', 18, p, observed=d_aggregated.pulled_left)\n",
    "\n",
    "    trace_10_5 = pm.sample(1000, tune=1000)"
   ]
  },
  {
   "cell_type": "code",
   "execution_count": 29,
   "metadata": {},
   "outputs": [
    {
     "data": {
      "text/html": [
       "<div>\n",
       "<style>\n",
       "    .dataframe thead tr:only-child th {\n",
       "        text-align: right;\n",
       "    }\n",
       "\n",
       "    .dataframe thead th {\n",
       "        text-align: left;\n",
       "    }\n",
       "\n",
       "    .dataframe tbody tr th {\n",
       "        vertical-align: top;\n",
       "    }\n",
       "</style>\n",
       "<table border=\"1\" class=\"dataframe\">\n",
       "  <thead>\n",
       "    <tr style=\"text-align: right;\">\n",
       "      <th></th>\n",
       "      <th>mean</th>\n",
       "      <th>sd</th>\n",
       "      <th>mc_error</th>\n",
       "      <th>hpd_2.5</th>\n",
       "      <th>hpd_97.5</th>\n",
       "      <th>n_eff</th>\n",
       "      <th>Rhat</th>\n",
       "    </tr>\n",
       "  </thead>\n",
       "  <tbody>\n",
       "    <tr>\n",
       "      <th>alpha</th>\n",
       "      <td>0.05</td>\n",
       "      <td>0.13</td>\n",
       "      <td>0.00</td>\n",
       "      <td>-0.20</td>\n",
       "      <td>0.28</td>\n",
       "      <td>1308.0</td>\n",
       "      <td>1.0</td>\n",
       "    </tr>\n",
       "    <tr>\n",
       "      <th>bp</th>\n",
       "      <td>0.62</td>\n",
       "      <td>0.22</td>\n",
       "      <td>0.01</td>\n",
       "      <td>0.21</td>\n",
       "      <td>1.10</td>\n",
       "      <td>1047.0</td>\n",
       "      <td>1.0</td>\n",
       "    </tr>\n",
       "    <tr>\n",
       "      <th>bpC</th>\n",
       "      <td>-0.11</td>\n",
       "      <td>0.26</td>\n",
       "      <td>0.01</td>\n",
       "      <td>-0.63</td>\n",
       "      <td>0.40</td>\n",
       "      <td>1179.0</td>\n",
       "      <td>1.0</td>\n",
       "    </tr>\n",
       "  </tbody>\n",
       "</table>\n",
       "</div>"
      ],
      "text/plain": [
       "       mean    sd  mc_error  hpd_2.5  hpd_97.5   n_eff  Rhat\n",
       "alpha  0.05  0.13      0.00    -0.20      0.28  1308.0   1.0\n",
       "bp     0.62  0.22      0.01     0.21      1.10  1047.0   1.0\n",
       "bpC   -0.11  0.26      0.01    -0.63      0.40  1179.0   1.0"
      ]
     },
     "execution_count": 29,
     "metadata": {},
     "output_type": "execute_result"
    }
   ],
   "source": [
    "pm.summary(trace_10_5, alpha=.11).round(2)"
   ]
  },
  {
   "cell_type": "code",
   "execution_count": 30,
   "metadata": {},
   "outputs": [
    {
     "data": {
      "text/plain": [
       "array([[ True,  True,  True, False,  True, False,  True],\n",
       "       [ True,  True,  True, False, False, False,  True],\n",
       "       [False,  True,  True, False,  True, False,  True]], dtype=bool)"
      ]
     },
     "execution_count": 30,
     "metadata": {},
     "output_type": "execute_result"
    }
   ],
   "source": [
    "# hacky check of similarity to 10_3, within a hundreth\n",
    "np.isclose(pm.summary(trace_10_5), pm.summary(trace_10_3), atol=0.01)"
   ]
  },
  {
   "cell_type": "markdown",
   "metadata": {},
   "source": [
    "#### Code 10.22"
   ]
  },
  {
   "cell_type": "code",
   "execution_count": 31,
   "metadata": {},
   "outputs": [
    {
     "data": {
      "text/html": [
       "<div>\n",
       "<style>\n",
       "    .dataframe thead tr:only-child th {\n",
       "        text-align: right;\n",
       "    }\n",
       "\n",
       "    .dataframe thead th {\n",
       "        text-align: left;\n",
       "    }\n",
       "\n",
       "    .dataframe tbody tr th {\n",
       "        vertical-align: top;\n",
       "    }\n",
       "</style>\n",
       "<table border=\"1\" class=\"dataframe\">\n",
       "  <thead>\n",
       "    <tr style=\"text-align: right;\">\n",
       "      <th></th>\n",
       "      <th>dept</th>\n",
       "      <th>applicant.gender</th>\n",
       "      <th>admit</th>\n",
       "      <th>reject</th>\n",
       "      <th>applications</th>\n",
       "    </tr>\n",
       "  </thead>\n",
       "  <tbody>\n",
       "    <tr>\n",
       "      <th>1</th>\n",
       "      <td>A</td>\n",
       "      <td>male</td>\n",
       "      <td>512</td>\n",
       "      <td>313</td>\n",
       "      <td>825</td>\n",
       "    </tr>\n",
       "    <tr>\n",
       "      <th>2</th>\n",
       "      <td>A</td>\n",
       "      <td>female</td>\n",
       "      <td>89</td>\n",
       "      <td>19</td>\n",
       "      <td>108</td>\n",
       "    </tr>\n",
       "    <tr>\n",
       "      <th>3</th>\n",
       "      <td>B</td>\n",
       "      <td>male</td>\n",
       "      <td>353</td>\n",
       "      <td>207</td>\n",
       "      <td>560</td>\n",
       "    </tr>\n",
       "    <tr>\n",
       "      <th>4</th>\n",
       "      <td>B</td>\n",
       "      <td>female</td>\n",
       "      <td>17</td>\n",
       "      <td>8</td>\n",
       "      <td>25</td>\n",
       "    </tr>\n",
       "    <tr>\n",
       "      <th>5</th>\n",
       "      <td>C</td>\n",
       "      <td>male</td>\n",
       "      <td>120</td>\n",
       "      <td>205</td>\n",
       "      <td>325</td>\n",
       "    </tr>\n",
       "    <tr>\n",
       "      <th>6</th>\n",
       "      <td>C</td>\n",
       "      <td>female</td>\n",
       "      <td>202</td>\n",
       "      <td>391</td>\n",
       "      <td>593</td>\n",
       "    </tr>\n",
       "    <tr>\n",
       "      <th>7</th>\n",
       "      <td>D</td>\n",
       "      <td>male</td>\n",
       "      <td>138</td>\n",
       "      <td>279</td>\n",
       "      <td>417</td>\n",
       "    </tr>\n",
       "    <tr>\n",
       "      <th>8</th>\n",
       "      <td>D</td>\n",
       "      <td>female</td>\n",
       "      <td>131</td>\n",
       "      <td>244</td>\n",
       "      <td>375</td>\n",
       "    </tr>\n",
       "  </tbody>\n",
       "</table>\n",
       "</div>"
      ],
      "text/plain": [
       "  dept applicant.gender  admit  reject  applications\n",
       "1    A             male    512     313           825\n",
       "2    A           female     89      19           108\n",
       "3    B             male    353     207           560\n",
       "4    B           female     17       8            25\n",
       "5    C             male    120     205           325\n",
       "6    C           female    202     391           593\n",
       "7    D             male    138     279           417\n",
       "8    D           female    131     244           375"
      ]
     },
     "execution_count": 31,
     "metadata": {},
     "output_type": "execute_result"
    }
   ],
   "source": [
    "d_ad = pd.read_csv('./Data/UCBadmit.csv', sep=';')\n",
    "d_ad.head(8)"
   ]
  },
  {
   "cell_type": "markdown",
   "metadata": {},
   "source": [
    "#### Code 10.23"
   ]
  },
  {
   "cell_type": "code",
   "execution_count": 32,
   "metadata": {},
   "outputs": [
    {
     "name": "stderr",
     "output_type": "stream",
     "text": [
      "Auto-assigning NUTS sampler...\n",
      "INFO:pymc3:Auto-assigning NUTS sampler...\n",
      "Initializing NUTS using jitter+adapt_diag...\n",
      "INFO:pymc3:Initializing NUTS using jitter+adapt_diag...\n",
      "100%|██████████| 2000/2000 [00:03<00:00, 620.50it/s] \n",
      "Auto-assigning NUTS sampler...\n",
      "INFO:pymc3:Auto-assigning NUTS sampler...\n",
      "Initializing NUTS using jitter+adapt_diag...\n",
      "INFO:pymc3:Initializing NUTS using jitter+adapt_diag...\n",
      "100%|██████████| 2000/2000 [00:01<00:00, 1351.90it/s]\n"
     ]
    }
   ],
   "source": [
    "d_ad['male'] = (d_ad['applicant.gender'] == 'male').astype(int)\n",
    "\n",
    "with pm.Model() as model_10_6:\n",
    "    a = pm.Normal('a', 0, 10)\n",
    "    bm = pm.Normal('bm', 0, 10)\n",
    "    p = pm.math.invlogit(a + bm * d_ad.male)\n",
    "    admit = pm.Binomial('admit', p=p, n=d_ad.applications, observed=d_ad.admit)\n",
    "    \n",
    "    trace_10_6 = pm.sample(1000, tune=1000)\n",
    "    \n",
    "with pm.Model() as model_10_7:\n",
    "    a = pm.Normal('a', 0, 10)\n",
    "    p = pm.math.invlogit(a)\n",
    "    admit = pm.Binomial('admit', p=p, n=d_ad.applications, observed=d_ad.admit)\n",
    "    \n",
    "    trace_10_7 = pm.sample(1000, tune=1000)"
   ]
  },
  {
   "cell_type": "markdown",
   "metadata": {},
   "source": [
    "#### Code 10.24"
   ]
  },
  {
   "cell_type": "code",
   "execution_count": 48,
   "metadata": {},
   "outputs": [
    {
     "data": {
      "text/html": [
       "<div>\n",
       "<style>\n",
       "    .dataframe thead tr:only-child th {\n",
       "        text-align: right;\n",
       "    }\n",
       "\n",
       "    .dataframe thead th {\n",
       "        text-align: left;\n",
       "    }\n",
       "\n",
       "    .dataframe tbody tr th {\n",
       "        vertical-align: top;\n",
       "    }\n",
       "</style>\n",
       "<table border=\"1\" class=\"dataframe\">\n",
       "  <thead>\n",
       "    <tr style=\"text-align: right;\">\n",
       "      <th></th>\n",
       "      <th>WAIC</th>\n",
       "      <th>pWAIC</th>\n",
       "      <th>dWAIC</th>\n",
       "      <th>weight</th>\n",
       "      <th>SE</th>\n",
       "      <th>dSE</th>\n",
       "      <th>warning</th>\n",
       "    </tr>\n",
       "    <tr>\n",
       "      <th>model</th>\n",
       "      <th></th>\n",
       "      <th></th>\n",
       "      <th></th>\n",
       "      <th></th>\n",
       "      <th></th>\n",
       "      <th></th>\n",
       "      <th></th>\n",
       "    </tr>\n",
       "  </thead>\n",
       "  <tbody>\n",
       "    <tr>\n",
       "      <th>m10.6</th>\n",
       "      <td>996.19</td>\n",
       "      <td>114.68</td>\n",
       "      <td>0</td>\n",
       "      <td>0.39</td>\n",
       "      <td>313.66</td>\n",
       "      <td>0</td>\n",
       "      <td>1</td>\n",
       "    </tr>\n",
       "    <tr>\n",
       "      <th>m10.7</th>\n",
       "      <td>1046</td>\n",
       "      <td>80.1</td>\n",
       "      <td>49.81</td>\n",
       "      <td>0.61</td>\n",
       "      <td>313.93</td>\n",
       "      <td>155.23</td>\n",
       "      <td>1</td>\n",
       "    </tr>\n",
       "  </tbody>\n",
       "</table>\n",
       "</div>"
      ],
      "text/plain": [
       "         WAIC   pWAIC  dWAIC weight      SE     dSE warning\n",
       "model                                                      \n",
       "m10.6  996.19  114.68      0   0.39  313.66       0       1\n",
       "m10.7    1046    80.1  49.81   0.61  313.93  155.23       1"
      ]
     },
     "execution_count": 48,
     "metadata": {},
     "output_type": "execute_result"
    }
   ],
   "source": [
    "# Something goofy here... \n",
    "# not even close to WAIC values, larger standard error\n",
    "\n",
    "comp_df = pm.compare([trace_10_6, trace_10_7], \n",
    "                     [model_10_6, model_10_7])\n",
    "\n",
    "comp_df.loc[:,'model'] = pd.Series(['m10.6', 'm10.7'])\n",
    "comp_df = comp_df.set_index('model')\n",
    "comp_df"
   ]
  },
  {
   "cell_type": "markdown",
   "metadata": {},
   "source": [
    "#### Code 10.25"
   ]
  },
  {
   "cell_type": "code",
   "execution_count": 49,
   "metadata": {},
   "outputs": [
    {
     "data": {
      "text/html": [
       "<div>\n",
       "<style>\n",
       "    .dataframe thead tr:only-child th {\n",
       "        text-align: right;\n",
       "    }\n",
       "\n",
       "    .dataframe thead th {\n",
       "        text-align: left;\n",
       "    }\n",
       "\n",
       "    .dataframe tbody tr th {\n",
       "        vertical-align: top;\n",
       "    }\n",
       "</style>\n",
       "<table border=\"1\" class=\"dataframe\">\n",
       "  <thead>\n",
       "    <tr style=\"text-align: right;\">\n",
       "      <th></th>\n",
       "      <th>mean</th>\n",
       "      <th>sd</th>\n",
       "      <th>mc_error</th>\n",
       "      <th>hpd_2.5</th>\n",
       "      <th>hpd_97.5</th>\n",
       "      <th>n_eff</th>\n",
       "      <th>Rhat</th>\n",
       "    </tr>\n",
       "  </thead>\n",
       "  <tbody>\n",
       "    <tr>\n",
       "      <th>a</th>\n",
       "      <td>-0.83</td>\n",
       "      <td>0.05</td>\n",
       "      <td>0.0</td>\n",
       "      <td>-0.93</td>\n",
       "      <td>-0.74</td>\n",
       "      <td>634.0</td>\n",
       "      <td>1.01</td>\n",
       "    </tr>\n",
       "    <tr>\n",
       "      <th>bm</th>\n",
       "      <td>0.61</td>\n",
       "      <td>0.06</td>\n",
       "      <td>0.0</td>\n",
       "      <td>0.49</td>\n",
       "      <td>0.73</td>\n",
       "      <td>600.0</td>\n",
       "      <td>1.01</td>\n",
       "    </tr>\n",
       "  </tbody>\n",
       "</table>\n",
       "</div>"
      ],
      "text/plain": [
       "    mean    sd  mc_error  hpd_2.5  hpd_97.5  n_eff  Rhat\n",
       "a  -0.83  0.05       0.0    -0.93     -0.74  634.0  1.01\n",
       "bm  0.61  0.06       0.0     0.49      0.73  600.0  1.01"
      ]
     },
     "execution_count": 49,
     "metadata": {},
     "output_type": "execute_result"
    }
   ],
   "source": [
    "pm.summary(trace_10_6, alpha=.11).round(2)"
   ]
  },
  {
   "cell_type": "markdown",
   "metadata": {},
   "source": [
    "#### Code 10.26"
   ]
  },
  {
   "cell_type": "code",
   "execution_count": 50,
   "metadata": {},
   "outputs": [
    {
     "data": {
      "text/plain": [
       "2.5%     0.114734\n",
       "50%      0.142053\n",
       "97.5%    0.169015\n",
       "dtype: float64"
      ]
     },
     "execution_count": 50,
     "metadata": {},
     "output_type": "execute_result"
    }
   ],
   "source": [
    "post = pm.trace_to_dataframe(trace_10_6)\n",
    "p_admit_male = logistic(post['a'] + post['bm'])\n",
    "p_admit_female = logistic(post['a'])\n",
    "diff_admit = p_admit_male - p_admit_female\n",
    "diff_admit.describe(percentiles=[.025, .5, .975])[['2.5%', '50%', '97.5%']]"
   ]
  },
  {
   "cell_type": "markdown",
   "metadata": {},
   "source": [
    "#### Code 10.27"
   ]
  },
  {
   "cell_type": "code",
   "execution_count": 51,
   "metadata": {},
   "outputs": [
    {
     "data": {
      "image/png": "[encoded data removed]",
      "text/plain": [
       "<matplotlib.figure.Figure at 0x11e1aaf28>"
      ]
     },
     "metadata": {
      "image/png": {
       "height": 248,
       "width": 366
      }
     },
     "output_type": "display_data"
    }
   ],
   "source": [
    "for i in range(6):\n",
    "    x = 1 + 2 * i\n",
    "    y1 = d_ad.admit[x] / d_ad.applications[x]\n",
    "    y2 = d_ad.admit[x+1] / d_ad.applications[x+1]\n",
    "    plt.plot([x, x+1], [y1, y2], '-C0o', lw=2)\n",
    "    plt.text(x + 0.25, (y1+y2)/2 + 0.05, d_ad.dept[x])\n",
    "plt.ylim(0, 1);"
   ]
  },
  {
   "cell_type": "markdown",
   "metadata": {},
   "source": [
    "#### Code 10.28"
   ]
  },
  {
   "cell_type": "code",
   "execution_count": 52,
   "metadata": {
    "collapsed": true
   },
   "outputs": [],
   "source": [
    "d_ad['dept_id'] = pd.Categorical(d_ad['dept']).codes"
   ]
  },
  {
   "cell_type": "code",
   "execution_count": 53,
   "metadata": {},
   "outputs": [
    {
     "name": "stderr",
     "output_type": "stream",
     "text": [
      "Auto-assigning NUTS sampler...\n",
      "INFO:pymc3:Auto-assigning NUTS sampler...\n",
      "Initializing NUTS using jitter+adapt_diag...\n",
      "INFO:pymc3:Initializing NUTS using jitter+adapt_diag...\n",
      "100%|██████████| 2000/2000 [00:02<00:00, 856.48it/s] \n",
      "Auto-assigning NUTS sampler...\n",
      "INFO:pymc3:Auto-assigning NUTS sampler...\n",
      "Initializing NUTS using jitter+adapt_diag...\n",
      "INFO:pymc3:Initializing NUTS using jitter+adapt_diag...\n",
      "100%|██████████| 2000/2000 [00:03<00:00, 564.23it/s]\n"
     ]
    }
   ],
   "source": [
    "with pm.Model() as model_10_8:\n",
    "    a = pm.Normal('a', 0, 10, shape=len(d_ad['dept'].unique()))\n",
    "    p = pm.math.invlogit(a[d_ad['dept_id'].values])\n",
    "    admit = pm.Binomial('admit', p=p, n=d_ad['applications'], observed=d_ad['admit'])\n",
    "    \n",
    "    trace_10_8 = pm.sample(1000, tune=1000)\n",
    "\n",
    "with pm.Model() as model_10_9:\n",
    "    a = pm.Normal('a', 0, 10, shape=len(d_ad['dept'].unique()))\n",
    "    bm = pm.Normal('bm', 0, 10)\n",
    "    p = pm.math.invlogit(a[d_ad['dept_id'].values] + bm * d_ad['male'])\n",
    "    admit = pm.Binomial('admit', p=p, n=d_ad['applications'], observed=d_ad['admit'])\n",
    "    \n",
    "    trace_10_9 = pm.sample(1000, tune=1000)"
   ]
  },
  {
   "cell_type": "markdown",
   "metadata": {},
   "source": [
    "#### Code 10.29"
   ]
  },
  {
   "cell_type": "code",
   "execution_count": 54,
   "metadata": {},
   "outputs": [
    {
     "data": {
      "text/html": [
       "<div>\n",
       "<style>\n",
       "    .dataframe thead tr:only-child th {\n",
       "        text-align: right;\n",
       "    }\n",
       "\n",
       "    .dataframe thead th {\n",
       "        text-align: left;\n",
       "    }\n",
       "\n",
       "    .dataframe tbody tr th {\n",
       "        vertical-align: top;\n",
       "    }\n",
       "</style>\n",
       "<table border=\"1\" class=\"dataframe\">\n",
       "  <thead>\n",
       "    <tr style=\"text-align: right;\">\n",
       "      <th></th>\n",
       "      <th>WAIC</th>\n",
       "      <th>pWAIC</th>\n",
       "      <th>dWAIC</th>\n",
       "      <th>weight</th>\n",
       "      <th>SE</th>\n",
       "      <th>dSE</th>\n",
       "      <th>warning</th>\n",
       "    </tr>\n",
       "    <tr>\n",
       "      <th>model</th>\n",
       "      <th></th>\n",
       "      <th></th>\n",
       "      <th></th>\n",
       "      <th></th>\n",
       "      <th></th>\n",
       "      <th></th>\n",
       "      <th></th>\n",
       "    </tr>\n",
       "  </thead>\n",
       "  <tbody>\n",
       "    <tr>\n",
       "      <th>m10.8</th>\n",
       "      <td>105.79</td>\n",
       "      <td>6.92</td>\n",
       "      <td>0</td>\n",
       "      <td>0.83</td>\n",
       "      <td>17.45</td>\n",
       "      <td>0</td>\n",
       "      <td>1</td>\n",
       "    </tr>\n",
       "    <tr>\n",
       "      <th>m10.9</th>\n",
       "      <td>108.97</td>\n",
       "      <td>9.69</td>\n",
       "      <td>3.18</td>\n",
       "      <td>0.17</td>\n",
       "      <td>15.92</td>\n",
       "      <td>3.57</td>\n",
       "      <td>1</td>\n",
       "    </tr>\n",
       "    <tr>\n",
       "      <th>m10.6</th>\n",
       "      <td>996.19</td>\n",
       "      <td>114.68</td>\n",
       "      <td>890.4</td>\n",
       "      <td>0</td>\n",
       "      <td>313.66</td>\n",
       "      <td>310.51</td>\n",
       "      <td>1</td>\n",
       "    </tr>\n",
       "    <tr>\n",
       "      <th>m10.7</th>\n",
       "      <td>1046</td>\n",
       "      <td>80.1</td>\n",
       "      <td>940.21</td>\n",
       "      <td>0</td>\n",
       "      <td>313.93</td>\n",
       "      <td>311.44</td>\n",
       "      <td>1</td>\n",
       "    </tr>\n",
       "  </tbody>\n",
       "</table>\n",
       "</div>"
      ],
      "text/plain": [
       "         WAIC   pWAIC   dWAIC weight      SE     dSE warning\n",
       "model                                                       \n",
       "m10.8  105.79    6.92       0   0.83   17.45       0       1\n",
       "m10.9  108.97    9.69    3.18   0.17   15.92    3.57       1\n",
       "m10.6  996.19  114.68   890.4      0  313.66  310.51       1\n",
       "m10.7    1046    80.1  940.21      0  313.93  311.44       1"
      ]
     },
     "execution_count": 54,
     "metadata": {},
     "output_type": "execute_result"
    }
   ],
   "source": [
    "# WAIC values still off\n",
    "# Plus warning flag\n",
    "\n",
    "comp_df = pm.compare(traces=[trace_10_6, trace_10_7, trace_10_8, trace_10_9],\n",
    "                     models=[model_10_6, model_10_7, model_10_8, model_10_9], \n",
    "                     method='pseudo-BMA')\n",
    "\n",
    "comp_df.loc[:,'model'] = pd.Series(['m10.6', 'm10.7', 'm10.8', 'm10.9'])\n",
    "comp_df = comp_df.set_index('model')\n",
    "comp_df"
   ]
  },
  {
   "cell_type": "markdown",
   "metadata": {},
   "source": [
    "#### Code 10.30"
   ]
  },
  {
   "cell_type": "code",
   "execution_count": 55,
   "metadata": {},
   "outputs": [
    {
     "data": {
      "text/html": [
       "<div>\n",
       "<style>\n",
       "    .dataframe thead tr:only-child th {\n",
       "        text-align: right;\n",
       "    }\n",
       "\n",
       "    .dataframe thead th {\n",
       "        text-align: left;\n",
       "    }\n",
       "\n",
       "    .dataframe tbody tr th {\n",
       "        vertical-align: top;\n",
       "    }\n",
       "</style>\n",
       "<table border=\"1\" class=\"dataframe\">\n",
       "  <thead>\n",
       "    <tr style=\"text-align: right;\">\n",
       "      <th></th>\n",
       "      <th>mean</th>\n",
       "      <th>sd</th>\n",
       "      <th>mc_error</th>\n",
       "      <th>hpd_5.5</th>\n",
       "      <th>hpd_94.5</th>\n",
       "      <th>n_eff</th>\n",
       "      <th>Rhat</th>\n",
       "    </tr>\n",
       "  </thead>\n",
       "  <tbody>\n",
       "    <tr>\n",
       "      <th>a__0</th>\n",
       "      <td>0.68</td>\n",
       "      <td>0.10</td>\n",
       "      <td>0.0</td>\n",
       "      <td>0.52</td>\n",
       "      <td>0.84</td>\n",
       "      <td>855.0</td>\n",
       "      <td>1.0</td>\n",
       "    </tr>\n",
       "    <tr>\n",
       "      <th>a__1</th>\n",
       "      <td>0.64</td>\n",
       "      <td>0.11</td>\n",
       "      <td>0.0</td>\n",
       "      <td>0.47</td>\n",
       "      <td>0.84</td>\n",
       "      <td>1079.0</td>\n",
       "      <td>1.0</td>\n",
       "    </tr>\n",
       "    <tr>\n",
       "      <th>a__2</th>\n",
       "      <td>-0.58</td>\n",
       "      <td>0.07</td>\n",
       "      <td>0.0</td>\n",
       "      <td>-0.70</td>\n",
       "      <td>-0.46</td>\n",
       "      <td>2000.0</td>\n",
       "      <td>1.0</td>\n",
       "    </tr>\n",
       "    <tr>\n",
       "      <th>a__3</th>\n",
       "      <td>-0.62</td>\n",
       "      <td>0.09</td>\n",
       "      <td>0.0</td>\n",
       "      <td>-0.76</td>\n",
       "      <td>-0.48</td>\n",
       "      <td>1533.0</td>\n",
       "      <td>1.0</td>\n",
       "    </tr>\n",
       "    <tr>\n",
       "      <th>a__4</th>\n",
       "      <td>-1.06</td>\n",
       "      <td>0.10</td>\n",
       "      <td>0.0</td>\n",
       "      <td>-1.21</td>\n",
       "      <td>-0.90</td>\n",
       "      <td>2000.0</td>\n",
       "      <td>1.0</td>\n",
       "    </tr>\n",
       "    <tr>\n",
       "      <th>a__5</th>\n",
       "      <td>-2.64</td>\n",
       "      <td>0.16</td>\n",
       "      <td>0.0</td>\n",
       "      <td>-2.89</td>\n",
       "      <td>-2.38</td>\n",
       "      <td>2000.0</td>\n",
       "      <td>1.0</td>\n",
       "    </tr>\n",
       "    <tr>\n",
       "      <th>bm</th>\n",
       "      <td>-0.10</td>\n",
       "      <td>0.08</td>\n",
       "      <td>0.0</td>\n",
       "      <td>-0.23</td>\n",
       "      <td>0.03</td>\n",
       "      <td>673.0</td>\n",
       "      <td>1.0</td>\n",
       "    </tr>\n",
       "  </tbody>\n",
       "</table>\n",
       "</div>"
      ],
      "text/plain": [
       "      mean    sd  mc_error  hpd_5.5  hpd_94.5   n_eff  Rhat\n",
       "a__0  0.68  0.10       0.0     0.52      0.84   855.0   1.0\n",
       "a__1  0.64  0.11       0.0     0.47      0.84  1079.0   1.0\n",
       "a__2 -0.58  0.07       0.0    -0.70     -0.46  2000.0   1.0\n",
       "a__3 -0.62  0.09       0.0    -0.76     -0.48  1533.0   1.0\n",
       "a__4 -1.06  0.10       0.0    -1.21     -0.90  2000.0   1.0\n",
       "a__5 -2.64  0.16       0.0    -2.89     -2.38  2000.0   1.0\n",
       "bm   -0.10  0.08       0.0    -0.23      0.03   673.0   1.0"
      ]
     },
     "execution_count": 55,
     "metadata": {},
     "output_type": "execute_result"
    }
   ],
   "source": [
    "pm.summary(trace_10_9, alpha=.11).round(2)"
   ]
  },
  {
   "cell_type": "markdown",
   "metadata": {},
   "source": [
    "#### Code 10.31\n",
    "Replicated model above but with MCMC in book."
   ]
  },
  {
   "cell_type": "markdown",
   "metadata": {},
   "source": [
    "#### Code 10.32"
   ]
  },
  {
   "cell_type": "code",
   "execution_count": 78,
   "metadata": {
    "collapsed": true
   },
   "outputs": [],
   "source": [
    "import statsmodels.api as sm\n",
    "from patsy import dmatrix\n",
    "\n",
    "endog = d_ad.loc[:,['admit', 'reject']].values # cbind(admit,reject)\n",
    "\n",
    "m10_7glm = sm.GLM(endog, dmatrix('~ 1', data=d_ad), \n",
    "                  family=sm.families.Binomial())\n",
    "m10_6glm = sm.GLM(endog, dmatrix('~ male', data=d_ad), \n",
    "                  family=sm.families.Binomial())\n",
    "m10_8glm = sm.GLM(endog, dmatrix('~ dept_id', data=d_ad), \n",
    "                  family=sm.families.Binomial())\n",
    "m10_9glm = sm.GLM(endog, dmatrix('~ male + dept_id', data=d_ad), \n",
    "                  family=sm.families.Binomial())\n",
    "# res = m10_7glm.fit()\n",
    "# res.summary()"
   ]
  },
  {
   "cell_type": "markdown",
   "metadata": {},
   "source": [
    "#### Code 10.33"
   ]
  },
  {
   "cell_type": "code",
   "execution_count": 94,
   "metadata": {},
   "outputs": [],
   "source": [
    "import statsmodels.formula.api as smf\n",
    "m10_4glm = smf.glm(formula='pulled_left ~ actor + prosoc_left*condition - condition', data=d, \n",
    "                   family=sm.families.Binomial())"
   ]
  },
  {
   "cell_type": "markdown",
   "metadata": {},
   "source": [
    "#### Code 10.34"
   ]
  },
  {
   "cell_type": "code",
   "execution_count": 97,
   "metadata": {},
   "outputs": [
    {
     "data": {
      "text/latex": [
       "$$Intercept \\sim \\text{Flat}()\\\\actor \\sim \\text{Normal}(\\mathit{mu}=0, \\mathit{sd}=1000.0)\\\\prosoc\\_left \\sim \\text{Normal}(\\mathit{mu}=0, \\mathit{sd}=1000.0)\\\\prosoc\\_left:condition \\sim \\text{Normal}(\\mathit{mu}=0, \\mathit{sd}=1000.0)\\\\y \\sim \\text{Bernoulli}(\\mathit{p}=f(f(array,f(Intercept,actor,prosoc\\_left,prosoc\\_left:condition))))$$"
      ],
      "text/plain": [
       "<pymc3.glm.linear.GLM at 0x11e06cbe0>"
      ]
     },
     "execution_count": 97,
     "metadata": {},
     "output_type": "execute_result"
    }
   ],
   "source": [
    "pm.GLM.from_formula('pulled_left ~ actor + prosoc_left*condition - condition', \n",
    "                    family='binomial', data=d)   "
   ]
  },
  {
   "cell_type": "markdown",
   "metadata": {},
   "source": [
    "#### Code 10.35"
   ]
  },
  {
   "cell_type": "code",
   "execution_count": 100,
   "metadata": {},
   "outputs": [
    {
     "data": {
      "text/html": [
       "<table class=\"simpletable\">\n",
       "<caption>Generalized Linear Model Regression Results</caption>\n",
       "<tr>\n",
       "  <th>Dep. Variable:</th>          <td>y</td>        <th>  No. Observations:  </th>  <td>    20</td> \n",
       "</tr>\n",
       "<tr>\n",
       "  <th>Model:</th>                 <td>GLM</td>       <th>  Df Residuals:      </th>  <td>    18</td> \n",
       "</tr>\n",
       "<tr>\n",
       "  <th>Model Family:</th>       <td>Binomial</td>     <th>  Df Model:          </th>  <td>     1</td> \n",
       "</tr>\n",
       "<tr>\n",
       "  <th>Link Function:</th>        <td>logit</td>      <th>  Scale:             </th>    <td>1.0</td>  \n",
       "</tr>\n",
       "<tr>\n",
       "  <th>Method:</th>               <td>IRLS</td>       <th>  Log-Likelihood:    </th> <td> -3.3510</td>\n",
       "</tr>\n",
       "<tr>\n",
       "  <th>Date:</th>           <td>Sun, 05 Nov 2017</td> <th>  Deviance:          </th> <td>  6.7020</td>\n",
       "</tr>\n",
       "<tr>\n",
       "  <th>Time:</th>               <td>17:12:43</td>     <th>  Pearson chi2:      </th>  <td>  11.0</td> \n",
       "</tr>\n",
       "<tr>\n",
       "  <th>No. Iterations:</th>        <td>21</td>        <th>                     </th>     <td> </td>   \n",
       "</tr>\n",
       "</table>\n",
       "<table class=\"simpletable\">\n",
       "<tr>\n",
       "      <td></td>         <th>coef</th>     <th>std err</th>      <th>z</th>      <th>P>|z|</th>  <th>[0.025</th>    <th>0.975]</th>  \n",
       "</tr>\n",
       "<tr>\n",
       "  <th>Intercept</th> <td>  -10.1317</td> <td> 8032.690</td> <td>   -0.001</td> <td> 0.999</td> <td>-1.58e+04</td> <td> 1.57e+04</td>\n",
       "</tr>\n",
       "<tr>\n",
       "  <th>x</th>         <td>   12.4343</td> <td> 8032.690</td> <td>    0.002</td> <td> 0.999</td> <td>-1.57e+04</td> <td> 1.58e+04</td>\n",
       "</tr>\n",
       "</table>"
      ],
      "text/plain": [
       "<class 'statsmodels.iolib.summary.Summary'>\n",
       "\"\"\"\n",
       "                 Generalized Linear Model Regression Results                  \n",
       "==============================================================================\n",
       "Dep. Variable:                      y   No. Observations:                   20\n",
       "Model:                            GLM   Df Residuals:                       18\n",
       "Model Family:                Binomial   Df Model:                            1\n",
       "Link Function:                  logit   Scale:                             1.0\n",
       "Method:                          IRLS   Log-Likelihood:                -3.3510\n",
       "Date:                Sun, 05 Nov 2017   Deviance:                       6.7020\n",
       "Time:                        17:12:43   Pearson chi2:                     11.0\n",
       "No. Iterations:                    21                                         \n",
       "==============================================================================\n",
       "                 coef    std err          z      P>|z|      [0.025      0.975]\n",
       "------------------------------------------------------------------------------\n",
       "Intercept    -10.1317   8032.690     -0.001      0.999   -1.58e+04    1.57e+04\n",
       "x             12.4343   8032.690      0.002      0.999   -1.57e+04    1.58e+04\n",
       "==============================================================================\n",
       "\"\"\""
      ]
     },
     "execution_count": 100,
     "metadata": {},
     "output_type": "execute_result"
    }
   ],
   "source": [
    "# outcome and predictor almost perfectly associated\n",
    "y = np.hstack([np.ones(10,)*0, np.ones(10,)])\n",
    "x = np.hstack([np.ones(9,)*-1, np.ones(11,)])\n",
    "\n",
    "m_bad = smf.glm(formula='y ~ x', \n",
    "                data=pd.DataFrame({'y':y, 'x':x}), \n",
    "                family=sm.families.Binomial()).fit()\n",
    "m_bad.summary()"
   ]
  },
  {
   "cell_type": "markdown",
   "metadata": {},
   "source": [
    "#### Code 10.36"
   ]
  },
  {
   "cell_type": "code",
   "execution_count": 101,
   "metadata": {},
   "outputs": [
    {
     "name": "stderr",
     "output_type": "stream",
     "text": [
      "logp = -9.9185, ||grad|| = 7.2889e-05: 100%|██████████| 13/13 [00:00<00:00, 2092.08it/s]\n"
     ]
    },
    {
     "data": {
      "text/plain": [
       "{'ab': array([-1.72704484,  4.01710522])}"
      ]
     },
     "execution_count": 101,
     "metadata": {},
     "output_type": "execute_result"
    }
   ],
   "source": [
    "with pm.Model() as m_good:\n",
    "    ab = pm.Normal('ab', 0, 10, shape=2)\n",
    "    p = pm.math.invlogit(ab[0] + ab[1]*x)\n",
    "    y_ = pm.Binomial('y_', 1, p, observed=y)\n",
    "    \n",
    "    MAP = pm.find_MAP()\n",
    "MAP"
   ]
  },
  {
   "cell_type": "markdown",
   "metadata": {},
   "source": [
    "#### Code 10.37"
   ]
  },
  {
   "cell_type": "code",
   "execution_count": 106,
   "metadata": {},
   "outputs": [
    {
     "name": "stderr",
     "output_type": "stream",
     "text": [
      "Auto-assigning NUTS sampler...\n",
      "INFO:pymc3:Auto-assigning NUTS sampler...\n",
      "Initializing NUTS using jitter+adapt_diag...\n",
      "INFO:pymc3:Initializing NUTS using jitter+adapt_diag...\n",
      "100%|██████████| 2000/2000 [00:03<00:00, 584.35it/s]\n",
      "/Users/jlao/Documents/Github/pymc3/pymc3/step_methods/hmc/nuts.py:468: UserWarning: Chain 1 contains 16 diverging samples after tuning. If increasing `target_accept` does not help try to reparameterize.\n",
      "  % (self._chain_id, n_diverging))\n",
      "/Library/Frameworks/Python.framework/Versions/3.5/lib/python3.5/site-packages/matplotlib/axes/_axes.py:545: UserWarning: No labelled objects found. Use label='...' kwarg on individual plots.\n",
      "  warnings.warn(\"No labelled objects found. \"\n"
     ]
    },
    {
     "data": {
      "image/png": "[encoded data removed]",
      "text/plain": [
       "<matplotlib.figure.Figure at 0x1161f2048>"
      ]
     },
     "metadata": {
      "image/png": {
       "height": 345,
       "width": 341
      }
     },
     "output_type": "display_data"
    }
   ],
   "source": [
    "trace = pm.sample(1000, tune=1000, model=m_good)\n",
    "tracedf = pm.trace_to_dataframe(trace)\n",
    "grid = (sns.PairGrid(tracedf,\n",
    "                     diag_sharey=False)\n",
    "           .map_diag(sns.kdeplot)\n",
    "           .map_upper(plt.scatter, alpha=0.1))"
   ]
  },
  {
   "cell_type": "markdown",
   "metadata": {},
   "source": [
    "#### Code 10.38"
   ]
  },
  {
   "cell_type": "code",
   "execution_count": 107,
   "metadata": {},
   "outputs": [
    {
     "data": {
      "text/plain": [
       "(0.99697000000000002, 0.99812081909999983)"
      ]
     },
     "execution_count": 107,
     "metadata": {},
     "output_type": "execute_result"
    }
   ],
   "source": [
    "y = stats.binom.rvs(n=1000, p=1/1000, size=100000)\n",
    "np.mean(y), np.var(y)"
   ]
  },
  {
   "cell_type": "markdown",
   "metadata": {},
   "source": [
    "#### Code 10.39"
   ]
  },
  {
   "cell_type": "code",
   "execution_count": 108,
   "metadata": {},
   "outputs": [
    {
     "data": {
      "text/html": [
       "<div>\n",
       "<style>\n",
       "    .dataframe thead tr:only-child th {\n",
       "        text-align: right;\n",
       "    }\n",
       "\n",
       "    .dataframe thead th {\n",
       "        text-align: left;\n",
       "    }\n",
       "\n",
       "    .dataframe tbody tr th {\n",
       "        vertical-align: top;\n",
       "    }\n",
       "</style>\n",
       "<table border=\"1\" class=\"dataframe\">\n",
       "  <thead>\n",
       "    <tr style=\"text-align: right;\">\n",
       "      <th></th>\n",
       "      <th>culture</th>\n",
       "      <th>population</th>\n",
       "      <th>contact</th>\n",
       "      <th>total_tools</th>\n",
       "      <th>mean_TU</th>\n",
       "    </tr>\n",
       "  </thead>\n",
       "  <tbody>\n",
       "    <tr>\n",
       "      <th>0</th>\n",
       "      <td>Malekula</td>\n",
       "      <td>1100</td>\n",
       "      <td>low</td>\n",
       "      <td>13</td>\n",
       "      <td>3.2</td>\n",
       "    </tr>\n",
       "    <tr>\n",
       "      <th>1</th>\n",
       "      <td>Tikopia</td>\n",
       "      <td>1500</td>\n",
       "      <td>low</td>\n",
       "      <td>22</td>\n",
       "      <td>4.7</td>\n",
       "    </tr>\n",
       "    <tr>\n",
       "      <th>2</th>\n",
       "      <td>Santa Cruz</td>\n",
       "      <td>3600</td>\n",
       "      <td>low</td>\n",
       "      <td>24</td>\n",
       "      <td>4.0</td>\n",
       "    </tr>\n",
       "    <tr>\n",
       "      <th>3</th>\n",
       "      <td>Yap</td>\n",
       "      <td>4791</td>\n",
       "      <td>high</td>\n",
       "      <td>43</td>\n",
       "      <td>5.0</td>\n",
       "    </tr>\n",
       "    <tr>\n",
       "      <th>4</th>\n",
       "      <td>Lau Fiji</td>\n",
       "      <td>7400</td>\n",
       "      <td>high</td>\n",
       "      <td>33</td>\n",
       "      <td>5.0</td>\n",
       "    </tr>\n",
       "    <tr>\n",
       "      <th>5</th>\n",
       "      <td>Trobriand</td>\n",
       "      <td>8000</td>\n",
       "      <td>high</td>\n",
       "      <td>19</td>\n",
       "      <td>4.0</td>\n",
       "    </tr>\n",
       "    <tr>\n",
       "      <th>6</th>\n",
       "      <td>Chuuk</td>\n",
       "      <td>9200</td>\n",
       "      <td>high</td>\n",
       "      <td>40</td>\n",
       "      <td>3.8</td>\n",
       "    </tr>\n",
       "    <tr>\n",
       "      <th>7</th>\n",
       "      <td>Manus</td>\n",
       "      <td>13000</td>\n",
       "      <td>low</td>\n",
       "      <td>28</td>\n",
       "      <td>6.6</td>\n",
       "    </tr>\n",
       "    <tr>\n",
       "      <th>8</th>\n",
       "      <td>Tonga</td>\n",
       "      <td>17500</td>\n",
       "      <td>high</td>\n",
       "      <td>55</td>\n",
       "      <td>5.4</td>\n",
       "    </tr>\n",
       "    <tr>\n",
       "      <th>9</th>\n",
       "      <td>Hawaii</td>\n",
       "      <td>275000</td>\n",
       "      <td>low</td>\n",
       "      <td>71</td>\n",
       "      <td>6.6</td>\n",
       "    </tr>\n",
       "  </tbody>\n",
       "</table>\n",
       "</div>"
      ],
      "text/plain": [
       "      culture  population contact  total_tools  mean_TU\n",
       "0    Malekula        1100     low           13      3.2\n",
       "1     Tikopia        1500     low           22      4.7\n",
       "2  Santa Cruz        3600     low           24      4.0\n",
       "3         Yap        4791    high           43      5.0\n",
       "4    Lau Fiji        7400    high           33      5.0\n",
       "5   Trobriand        8000    high           19      4.0\n",
       "6       Chuuk        9200    high           40      3.8\n",
       "7       Manus       13000     low           28      6.6\n",
       "8       Tonga       17500    high           55      5.4\n",
       "9      Hawaii      275000     low           71      6.6"
      ]
     },
     "execution_count": 108,
     "metadata": {},
     "output_type": "execute_result"
    }
   ],
   "source": [
    "dk = pd.read_csv('Data/Kline', sep=';')\n",
    "dk"
   ]
  },
  {
   "cell_type": "markdown",
   "metadata": {},
   "source": [
    "#### Code 10.40"
   ]
  },
  {
   "cell_type": "code",
   "execution_count": 109,
   "metadata": {
    "collapsed": true
   },
   "outputs": [],
   "source": [
    "dk.log_pop = np.log(dk.population)\n",
    "dk.contact_high = (dk.contact == \"high\").astype(int)"
   ]
  },
  {
   "cell_type": "markdown",
   "metadata": {},
   "source": [
    "#### Code 10.41"
   ]
  },
  {
   "cell_type": "code",
   "execution_count": 110,
   "metadata": {},
   "outputs": [
    {
     "name": "stderr",
     "output_type": "stream",
     "text": [
      "Auto-assigning NUTS sampler...\n",
      "INFO:pymc3:Auto-assigning NUTS sampler...\n",
      "Initializing NUTS using jitter+adapt_diag...\n",
      "INFO:pymc3:Initializing NUTS using jitter+adapt_diag...\n",
      "100%|██████████| 2000/2000 [00:14<00:00, 139.89it/s]\n"
     ]
    }
   ],
   "source": [
    "with pm.Model() as m_10_10:\n",
    "    a = pm.Normal('a', 0, 100)\n",
    "    b = pm.Normal('b', 0, 1, shape=3)\n",
    "    lam = pm.math.exp(a + b[0] * dk.log_pop + b[1] * dk.contact_high + b[2] * dk.contact_high * dk.log_pop)\n",
    "    total_tools = pm.Poisson('total_tools', lam, observed=dk.total_tools)\n",
    "    trace_10_10 = pm.sample(1000, tune=1000)"
   ]
  },
  {
   "cell_type": "markdown",
   "metadata": {},
   "source": [
    "#### Code 10.42"
   ]
  },
  {
   "cell_type": "code",
   "execution_count": 144,
   "metadata": {},
   "outputs": [
    {
     "data": {
      "text/html": [
       "<div>\n",
       "<style>\n",
       "    .dataframe thead tr:only-child th {\n",
       "        text-align: right;\n",
       "    }\n",
       "\n",
       "    .dataframe thead th {\n",
       "        text-align: left;\n",
       "    }\n",
       "\n",
       "    .dataframe tbody tr th {\n",
       "        vertical-align: top;\n",
       "    }\n",
       "</style>\n",
       "<table border=\"1\" class=\"dataframe\">\n",
       "  <thead>\n",
       "    <tr style=\"text-align: right;\">\n",
       "      <th></th>\n",
       "      <th>mean</th>\n",
       "      <th>sd</th>\n",
       "      <th>hpd_5.5</th>\n",
       "      <th>hpd_94.5</th>\n",
       "      <th>a</th>\n",
       "      <th>b__0</th>\n",
       "      <th>b__1</th>\n",
       "      <th>b__2</th>\n",
       "    </tr>\n",
       "  </thead>\n",
       "  <tbody>\n",
       "    <tr>\n",
       "      <th>a</th>\n",
       "      <td>0.93</td>\n",
       "      <td>0.34</td>\n",
       "      <td>0.37</td>\n",
       "      <td>1.42</td>\n",
       "      <td>1.00</td>\n",
       "      <td>-0.97</td>\n",
       "      <td>-0.16</td>\n",
       "      <td>0.10</td>\n",
       "    </tr>\n",
       "    <tr>\n",
       "      <th>b__0</th>\n",
       "      <td>0.26</td>\n",
       "      <td>0.03</td>\n",
       "      <td>0.21</td>\n",
       "      <td>0.31</td>\n",
       "      <td>-0.97</td>\n",
       "      <td>1.00</td>\n",
       "      <td>0.17</td>\n",
       "      <td>-0.13</td>\n",
       "    </tr>\n",
       "    <tr>\n",
       "      <th>b__1</th>\n",
       "      <td>-0.14</td>\n",
       "      <td>0.80</td>\n",
       "      <td>-1.35</td>\n",
       "      <td>1.20</td>\n",
       "      <td>-0.16</td>\n",
       "      <td>0.17</td>\n",
       "      <td>1.00</td>\n",
       "      <td>-0.99</td>\n",
       "    </tr>\n",
       "    <tr>\n",
       "      <th>b__2</th>\n",
       "      <td>0.05</td>\n",
       "      <td>0.09</td>\n",
       "      <td>-0.08</td>\n",
       "      <td>0.20</td>\n",
       "      <td>0.10</td>\n",
       "      <td>-0.13</td>\n",
       "      <td>-0.99</td>\n",
       "      <td>1.00</td>\n",
       "    </tr>\n",
       "  </tbody>\n",
       "</table>\n",
       "</div>"
      ],
      "text/plain": [
       "      mean    sd  hpd_5.5  hpd_94.5     a  b__0  b__1  b__2\n",
       "a     0.93  0.34     0.37      1.42  1.00 -0.97 -0.16  0.10\n",
       "b__0  0.26  0.03     0.21      0.31 -0.97  1.00  0.17 -0.13\n",
       "b__1 -0.14  0.80    -1.35      1.20 -0.16  0.17  1.00 -0.99\n",
       "b__2  0.05  0.09    -0.08      0.20  0.10 -0.13 -0.99  1.00"
      ]
     },
     "execution_count": 144,
     "metadata": {},
     "output_type": "execute_result"
    }
   ],
   "source": [
    "summary = pm.summary(trace_10_10, alpha=.11)[['mean', 'sd', 'hpd_5.5', 'hpd_94.5']]\n",
    "trace_cov = pm.trace_cov(trace_10_10, model=m_10_10)\n",
    "invD = (np.sqrt(np.diag(trace_cov))**-1)[:, None]\n",
    "trace_corr = pd.DataFrame(invD*trace_cov*invD.T, index=summary.index, columns=summary.index)\n",
    "\n",
    "summary.join(trace_corr).round(2)"
   ]
  },
  {
   "cell_type": "code",
   "execution_count": 146,
   "metadata": {},
   "outputs": [
    {
     "data": {
      "image/png": "[encoded data removed]",
      "text/plain": [
       "<matplotlib.figure.Figure at 0x1208b97b8>"
      ]
     },
     "metadata": {
      "image/png": {
       "height": 382,
       "width": 548
      }
     },
     "output_type": "display_data"
    }
   ],
   "source": [
    "pm.forestplot(trace_10_10);"
   ]
  },
  {
   "cell_type": "markdown",
   "metadata": {},
   "source": [
    "#### Code 10.43"
   ]
  },
  {
   "cell_type": "code",
   "execution_count": 147,
   "metadata": {
    "collapsed": true
   },
   "outputs": [],
   "source": [
    "lambda_high = np.exp(trace_10_10['a'] + trace_10_10['b'][:,1] + (trace_10_10['b'][:,0] + trace_10_10['b'][:,2]) * 8)\n",
    "lambda_low = np.exp(trace_10_10['a'] + trace_10_10['b'][:,0] * 8 )"
   ]
  },
  {
   "cell_type": "markdown",
   "metadata": {},
   "source": [
    "#### Code 10.44"
   ]
  },
  {
   "cell_type": "code",
   "execution_count": 148,
   "metadata": {},
   "outputs": [
    {
     "data": {
      "text/plain": [
       "0.96050000000000002"
      ]
     },
     "execution_count": 148,
     "metadata": {},
     "output_type": "execute_result"
    }
   ],
   "source": [
    "diff = lambda_high - lambda_low\n",
    "np.sum(diff > 0) / len(diff)"
   ]
  },
  {
   "cell_type": "markdown",
   "metadata": {},
   "source": [
    "#### Code 10.45"
   ]
  },
  {
   "cell_type": "code",
   "execution_count": 149,
   "metadata": {},
   "outputs": [
    {
     "name": "stderr",
     "output_type": "stream",
     "text": [
      "Auto-assigning NUTS sampler...\n",
      "INFO:pymc3:Auto-assigning NUTS sampler...\n",
      "Initializing NUTS using jitter+adapt_diag...\n",
      "INFO:pymc3:Initializing NUTS using jitter+adapt_diag...\n",
      "100%|██████████| 2000/2000 [00:07<00:00, 260.32it/s]\n"
     ]
    }
   ],
   "source": [
    "with pm.Model() as m_10_11:\n",
    "    a = pm.Normal('a', 0, 100)\n",
    "    b = pm.Normal('b', 0, 1, shape=2)\n",
    "    lam = pm.math.exp(a + b[0] * dk.log_pop + b[1] * dk.contact_high)\n",
    "    total_tools = pm.Poisson('total_tools', lam, observed=dk.total_tools)\n",
    "    trace_10_11 = pm.sample(1000, tune=1000)"
   ]
  },
  {
   "cell_type": "markdown",
   "metadata": {},
   "source": [
    "#### Code 10.46"
   ]
  },
  {
   "cell_type": "code",
   "execution_count": 150,
   "metadata": {},
   "outputs": [
    {
     "name": "stderr",
     "output_type": "stream",
     "text": [
      "Auto-assigning NUTS sampler...\n",
      "INFO:pymc3:Auto-assigning NUTS sampler...\n",
      "Initializing NUTS using jitter+adapt_diag...\n",
      "INFO:pymc3:Initializing NUTS using jitter+adapt_diag...\n",
      " 99%|█████████▉| 1982/2000 [00:04<00:00, 596.42it/s]/Users/jlao/Documents/Github/pymc3/pymc3/step_methods/hmc/nuts.py:452: UserWarning: The acceptance probability in chain 0 does not match the target. It is 0.880093851093, but should be close to 0.8. Try to increase the number of tuning steps.\n",
      "  % (self._chain_id, mean_accept, target_accept))\n",
      "100%|██████████| 2000/2000 [00:04<00:00, 492.31it/s]\n",
      "Auto-assigning NUTS sampler...\n",
      "INFO:pymc3:Auto-assigning NUTS sampler...\n",
      "Initializing NUTS using jitter+adapt_diag...\n",
      "INFO:pymc3:Initializing NUTS using jitter+adapt_diag...\n",
      "100%|██████████| 2000/2000 [00:02<00:00, 953.28it/s] \n"
     ]
    }
   ],
   "source": [
    "with pm.Model() as m_10_12:\n",
    "    a = pm.Normal('a', 0, 100)\n",
    "    b = pm.Normal('b', 0, 1)\n",
    "    lam = pm.math.exp(a + b * dk.log_pop)\n",
    "    total_tools = pm.Poisson('total_tools', lam, observed=dk.total_tools)\n",
    "    trace_10_12 = pm.sample(1000, tune=1000)\n",
    "    \n",
    "with pm.Model() as m_10_13:\n",
    "    a = pm.Normal('a', 0, 100)\n",
    "    b = pm.Normal('b', 0, 1)\n",
    "    lam = pm.math.exp(a + b * dk.contact_high)\n",
    "    total_tools = pm.Poisson('total_tools', lam, observed=dk.total_tools)\n",
    "    trace_10_13 = pm.sample(1000, tune=1000)"
   ]
  },
  {
   "cell_type": "markdown",
   "metadata": {},
   "source": [
    "\n",
    "\n",
    "#### Code 10.47"
   ]
  },
  {
   "cell_type": "code",
   "execution_count": 151,
   "metadata": {},
   "outputs": [
    {
     "name": "stderr",
     "output_type": "stream",
     "text": [
      "Auto-assigning NUTS sampler...\n",
      "INFO:pymc3:Auto-assigning NUTS sampler...\n",
      "Initializing NUTS using jitter+adapt_diag...\n",
      "INFO:pymc3:Initializing NUTS using jitter+adapt_diag...\n",
      "100%|██████████| 2000/2000 [00:01<00:00, 1761.22it/s]\n"
     ]
    }
   ],
   "source": [
    "with pm.Model() as m_10_14:\n",
    "    a = pm.Normal('a', 0, 100)\n",
    "    lam = pm.math.exp(a)\n",
    "    total_tools = pm.Poisson('total_tools', lam, observed=dk.total_tools)\n",
    "    trace_10_14 = pm.sample(1000, tune=1000)"
   ]
  },
  {
   "cell_type": "code",
   "execution_count": 152,
   "metadata": {},
   "outputs": [
    {
     "data": {
      "text/html": [
       "<div>\n",
       "<style>\n",
       "    .dataframe thead tr:only-child th {\n",
       "        text-align: right;\n",
       "    }\n",
       "\n",
       "    .dataframe thead th {\n",
       "        text-align: left;\n",
       "    }\n",
       "\n",
       "    .dataframe tbody tr th {\n",
       "        vertical-align: top;\n",
       "    }\n",
       "</style>\n",
       "<table border=\"1\" class=\"dataframe\">\n",
       "  <thead>\n",
       "    <tr style=\"text-align: right;\">\n",
       "      <th></th>\n",
       "      <th>WAIC</th>\n",
       "      <th>pWAIC</th>\n",
       "      <th>dWAIC</th>\n",
       "      <th>weight</th>\n",
       "      <th>SE</th>\n",
       "      <th>dSE</th>\n",
       "      <th>warning</th>\n",
       "    </tr>\n",
       "    <tr>\n",
       "      <th>model</th>\n",
       "      <th></th>\n",
       "      <th></th>\n",
       "      <th></th>\n",
       "      <th></th>\n",
       "      <th></th>\n",
       "      <th></th>\n",
       "      <th></th>\n",
       "    </tr>\n",
       "  </thead>\n",
       "  <tbody>\n",
       "    <tr>\n",
       "      <th>m10.11</th>\n",
       "      <td>78.97</td>\n",
       "      <td>4.22</td>\n",
       "      <td>0</td>\n",
       "      <td>0.56</td>\n",
       "      <td>11.18</td>\n",
       "      <td>0</td>\n",
       "      <td>1</td>\n",
       "    </tr>\n",
       "    <tr>\n",
       "      <th>m10.10</th>\n",
       "      <td>79.66</td>\n",
       "      <td>4.68</td>\n",
       "      <td>0.7</td>\n",
       "      <td>0.4</td>\n",
       "      <td>11.3</td>\n",
       "      <td>1.33</td>\n",
       "      <td>1</td>\n",
       "    </tr>\n",
       "    <tr>\n",
       "      <th>m10.12</th>\n",
       "      <td>84.39</td>\n",
       "      <td>3.72</td>\n",
       "      <td>5.42</td>\n",
       "      <td>0.04</td>\n",
       "      <td>8.91</td>\n",
       "      <td>8.01</td>\n",
       "      <td>1</td>\n",
       "    </tr>\n",
       "    <tr>\n",
       "      <th>m10.14</th>\n",
       "      <td>140.71</td>\n",
       "      <td>7.79</td>\n",
       "      <td>61.74</td>\n",
       "      <td>0</td>\n",
       "      <td>31.18</td>\n",
       "      <td>32.36</td>\n",
       "      <td>1</td>\n",
       "    </tr>\n",
       "    <tr>\n",
       "      <th>m10.13</th>\n",
       "      <td>150.3</td>\n",
       "      <td>16.75</td>\n",
       "      <td>71.33</td>\n",
       "      <td>0</td>\n",
       "      <td>45.04</td>\n",
       "      <td>44.77</td>\n",
       "      <td>1</td>\n",
       "    </tr>\n",
       "  </tbody>\n",
       "</table>\n",
       "</div>"
      ],
      "text/plain": [
       "          WAIC  pWAIC  dWAIC weight     SE    dSE warning\n",
       "model                                                    \n",
       "m10.11   78.97   4.22      0   0.56  11.18      0       1\n",
       "m10.10   79.66   4.68    0.7    0.4   11.3   1.33       1\n",
       "m10.12   84.39   3.72   5.42   0.04   8.91   8.01       1\n",
       "m10.14  140.71   7.79  61.74      0  31.18  32.36       1\n",
       "m10.13   150.3  16.75  71.33      0  45.04  44.77       1"
      ]
     },
     "execution_count": 152,
     "metadata": {},
     "output_type": "execute_result"
    }
   ],
   "source": [
    "traces = [trace_10_10, trace_10_11, trace_10_12, trace_10_13, trace_10_14]\n",
    "models = [m_10_10, m_10_11, m_10_12, m_10_13, m_10_14]\n",
    "\n",
    "islands_compare = pm.compare(traces, models, method='pseudo-BMA')\n",
    "\n",
    "islands_compare.loc[:,'model'] = pd.Series(['m10.10', 'm10.11', 'm10.12', 'm10.13', 'm10.14'])\n",
    "islands_compare = islands_compare.set_index('model')\n",
    "islands_compare"
   ]
  },
  {
   "cell_type": "code",
   "execution_count": 153,
   "metadata": {
    "scrolled": true
   },
   "outputs": [
    {
     "data": {
      "image/png": "[encoded data removed]",
      "text/plain": [
       "<matplotlib.figure.Figure at 0x11f648400>"
      ]
     },
     "metadata": {
      "image/png": {
       "height": 346,
       "width": 504
      }
     },
     "output_type": "display_data"
    }
   ],
   "source": [
    "pm.compareplot(islands_compare);"
   ]
  },
  {
   "cell_type": "markdown",
   "metadata": {},
   "source": [
    "#### Code 10.48"
   ]
  },
  {
   "cell_type": "code",
   "execution_count": 180,
   "metadata": {},
   "outputs": [
    {
     "data": {
      "image/png": "[encoded data removed]",
      "text/plain": [
       "<matplotlib.figure.Figure at 0x1267cbf28>"
      ]
     },
     "metadata": {
      "image/png": {
       "height": 302,
       "width": 311
      }
     },
     "output_type": "display_data"
    }
   ],
   "source": [
    "_, axes = plt.subplots(1, 1, figsize=(5, 5))\n",
    "index = dk.contact=='high'\n",
    "axes.scatter(np.log(dk.population)[index], dk.total_tools[index])\n",
    "axes.scatter(np.log(dk.population)[~index], dk.total_tools[~index], \n",
    "             facecolors='none', edgecolors='k', lw=1);\n",
    "\n",
    "\n"
   ]
  },
  {
   "cell_type": "code",
   "execution_count": 169,
   "metadata": {
    "collapsed": true
   },
   "outputs": [],
   "source": [
    "plt.figure?"
   ]
  },
  {
   "cell_type": "markdown",
   "metadata": {},
   "source": [
    "#### Code 10.xx"
   ]
  },
  {
   "cell_type": "code",
   "execution_count": null,
   "metadata": {
    "collapsed": true
   },
   "outputs": [],
   "source": []
  },
  {
   "cell_type": "markdown",
   "metadata": {},
   "source": [
    "#### Code 10.xx"
   ]
  },
  {
   "cell_type": "code",
   "execution_count": null,
   "metadata": {
    "collapsed": true
   },
   "outputs": [],
   "source": []
  },
  {
   "cell_type": "markdown",
   "metadata": {},
   "source": [
    "#### Code 10.xx"
   ]
  },
  {
   "cell_type": "code",
   "execution_count": null,
   "metadata": {
    "collapsed": true
   },
   "outputs": [],
   "source": []
  },
  {
   "cell_type": "markdown",
   "metadata": {},
   "source": [
    "#### Code 10.xx"
   ]
  },
  {
   "cell_type": "code",
   "execution_count": null,
   "metadata": {
    "collapsed": true
   },
   "outputs": [],
   "source": []
  },
  {
   "cell_type": "markdown",
   "metadata": {},
   "source": [
    "#### Code 10.xx"
   ]
  },
  {
   "cell_type": "code",
   "execution_count": null,
   "metadata": {
    "collapsed": true
   },
   "outputs": [],
   "source": []
  },
  {
   "cell_type": "markdown",
   "metadata": {},
   "source": [
    "#### Code 10.xx"
   ]
  },
  {
   "cell_type": "code",
   "execution_count": null,
   "metadata": {
    "collapsed": true
   },
   "outputs": [],
   "source": []
  },
  {
   "cell_type": "markdown",
   "metadata": {},
   "source": [
    "#### Code 10.xx"
   ]
  },
  {
   "cell_type": "code",
   "execution_count": null,
   "metadata": {
    "collapsed": true
   },
   "outputs": [],
   "source": []
  },
  {
   "cell_type": "markdown",
   "metadata": {},
   "source": [
    "#### Code 10.xx"
   ]
  },
  {
   "cell_type": "code",
   "execution_count": null,
   "metadata": {
    "collapsed": true
   },
   "outputs": [],
   "source": []
  },
  {
   "cell_type": "markdown",
   "metadata": {},
   "source": [
    "#### Code 10.xx"
   ]
  },
  {
   "cell_type": "code",
   "execution_count": null,
   "metadata": {
    "collapsed": true
   },
   "outputs": [],
   "source": []
  },
  {
   "cell_type": "markdown",
   "metadata": {},
   "source": [
    "#### Code 10.xx"
   ]
  },
  {
   "cell_type": "code",
   "execution_count": null,
   "metadata": {
    "collapsed": true
   },
   "outputs": [],
   "source": []
  },
  {
   "cell_type": "markdown",
   "metadata": {},
   "source": [
    "#### Code 10.xx"
   ]
  },
  {
   "cell_type": "code",
   "execution_count": null,
   "metadata": {
    "collapsed": true
   },
   "outputs": [],
   "source": []
  },
  {
   "cell_type": "markdown",
   "metadata": {},
   "source": [
    "#### Code 10.xx"
   ]
  },
  {
   "cell_type": "code",
   "execution_count": null,
   "metadata": {
    "collapsed": true
   },
   "outputs": [],
   "source": []
  },
  {
   "cell_type": "markdown",
   "metadata": {},
   "source": [
    "#### Code 10.xx"
   ]
  },
  {
   "cell_type": "code",
   "execution_count": null,
   "metadata": {
    "collapsed": true
   },
   "outputs": [],
   "source": []
  },
  {
   "cell_type": "markdown",
   "metadata": {},
   "source": [
    "#### Code 10.xx"
   ]
  },
  {
   "cell_type": "code",
   "execution_count": null,
   "metadata": {
    "collapsed": true
   },
   "outputs": [],
   "source": []
  },
  {
   "cell_type": "markdown",
   "metadata": {},
   "source": [
    "#### Code 10.xx"
   ]
  },
  {
   "cell_type": "code",
   "execution_count": null,
   "metadata": {
    "collapsed": true
   },
   "outputs": [],
   "source": []
  },
  {
   "cell_type": "code",
   "execution_count": 50,
   "metadata": {},
   "outputs": [
    {
     "name": "stdout",
     "output_type": "stream",
     "text": [
      "This notebook was createad on a computer x86_64 running debian stretch/sid and using:\n",
      "Python 3.6.2\n",
      "IPython 6.1.0\n",
      "PyMC3 3.2\n",
      "NumPy 1.13.1\n",
      "Pandas 0.20.3\n",
      "SciPy 0.19.1\n",
      "Matplotlib 2.0.2\n",
      "\n"
     ]
    }
   ],
   "source": [
    "import sys, IPython, scipy, matplotlib, platform\n",
    "print(\"This notebook was createad on a computer %s running %s and using:\\nPython %s\\nIPython %s\\nPyMC3 %s\\nNumPy %s\\nPandas %s\\nSciPy %s\\nMatplotlib %s\\n\" % (platform.machine(), ' '.join(platform.linux_distribution()[:2]), sys.version[:5], IPython.__version__, pm.__version__, np.__version__, pd.__version__, scipy.__version__, matplotlib.__version__))"
   ]
  }
 ],
 "metadata": {
  "kernelspec": {
   "display_name": "Python 3",
   "language": "python",
   "name": "python3"
  },
  "language_info": {
   "codemirror_mode": {
    "name": "ipython",
    "version": 3
   },
   "file_extension": ".py",
   "mimetype": "text/x-python",
   "name": "python",
   "nbconvert_exporter": "python",
   "pygments_lexer": "ipython3",
   "version": "3.5.1"
  }
 },
 "nbformat": 4,
 "nbformat_minor": 1
}
