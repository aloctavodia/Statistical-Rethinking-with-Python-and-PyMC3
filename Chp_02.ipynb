{
 "cells": [
  {
   "cell_type": "code",
   "execution_count": 1,
   "metadata": {
    "collapsed": true
   },
   "outputs": [],
   "source": [
    "%matplotlib inline\n",
    "import pymc3 as pm\n",
    "import numpy as np\n",
    "import scipy.stats as stats\n",
    "import matplotlib.pyplot as plt\n",
    "import seaborn as sns; sns.set_palette('colorblind'); sns.set_color_codes()"
   ]
  },
  {
   "cell_type": "markdown",
   "metadata": {},
   "source": [
    "#### Code 2.1"
   ]
  },
  {
   "cell_type": "code",
   "execution_count": 2,
   "metadata": {},
   "outputs": [
    {
     "data": {
      "text/plain": [
       "array([ 0.  ,  0.15,  0.4 ,  0.45,  0.  ])"
      ]
     },
     "execution_count": 2,
     "metadata": {},
     "output_type": "execute_result"
    }
   ],
   "source": [
    "ways = np.array([0, 3, 8, 9, 0])\n",
    "ways/ways.sum()"
   ]
  },
  {
   "cell_type": "markdown",
   "metadata": {},
   "source": [
    "#### Code 2.2\n",
    "\n",
    "$$Pr(w|n, p) =  \\frac{n!}{w!(n − w)!} p^w (1 − p)^{n−w}$$\n",
    "\n",
    "\n",
    "The probability of observing six W’s in nine tosses—under a value of p=0.5"
   ]
  },
  {
   "cell_type": "code",
   "execution_count": 3,
   "metadata": {},
   "outputs": [
    {
     "data": {
      "text/plain": [
       "0.16406250000000006"
      ]
     },
     "execution_count": 3,
     "metadata": {},
     "output_type": "execute_result"
    }
   ],
   "source": [
    "stats.binom.pmf(6, n=9, p=0.5)"
   ]
  },
  {
   "cell_type": "markdown",
   "metadata": {},
   "source": [
    "#### Code 2.3 and 2.5\n",
    "\n",
    "Computing the posterior using a grid approximation.\n",
    "\n",
    "In the book the following code is not inside a function, but this way is easier to play with different parameters"
   ]
  },
  {
   "cell_type": "markdown",
   "metadata": {},
   "source": [
    "##### Printing out variables to help python/scipy.stats beginners better understand what's happening"
   ]
  },
  {
   "cell_type": "code",
   "execution_count": 4,
   "metadata": {},
   "outputs": [
    {
     "data": {
      "text/plain": [
       "array([ 0.  ,  0.25,  0.5 ,  0.75,  1.  ])"
      ]
     },
     "execution_count": 4,
     "metadata": {},
     "output_type": "execute_result"
    }
   ],
   "source": [
    "p_grid = np.linspace(0,1, 5)\n",
    "p_grid"
   ]
  },
  {
   "cell_type": "code",
   "execution_count": 5,
   "metadata": {},
   "outputs": [
    {
     "data": {
      "text/plain": [
       "array([5, 5, 5, 5, 5])"
      ]
     },
     "execution_count": 5,
     "metadata": {},
     "output_type": "execute_result"
    }
   ],
   "source": [
    "prior = np.repeat(5, 5)\n",
    "prior"
   ]
  },
  {
   "cell_type": "code",
   "execution_count": 6,
   "metadata": {},
   "outputs": [
    {
     "data": {
      "text/plain": [
       "array([ 0.        ,  0.00865173,  0.1640625 ,  0.2335968 ,  0.        ])"
      ]
     },
     "execution_count": 6,
     "metadata": {},
     "output_type": "execute_result"
    }
   ],
   "source": [
    "likelihood = stats.binom.pmf(6,9, p_grid)\n",
    "likelihood"
   ]
  },
  {
   "cell_type": "code",
   "execution_count": 7,
   "metadata": {},
   "outputs": [
    {
     "data": {
      "text/plain": [
       "array([ 0.        ,  0.04325867,  0.8203125 ,  1.16798401,  0.        ])"
      ]
     },
     "execution_count": 7,
     "metadata": {},
     "output_type": "execute_result"
    }
   ],
   "source": [
    "likelihood * prior"
   ]
  },
  {
   "cell_type": "code",
   "execution_count": 8,
   "metadata": {},
   "outputs": [
    {
     "data": {
      "text/plain": [
       "array([ 0.00865173])"
      ]
     },
     "execution_count": 8,
     "metadata": {},
     "output_type": "execute_result"
    }
   ],
   "source": [
    "stats.binom.pmf(6,9, [0.25])"
   ]
  },
  {
   "cell_type": "code",
   "execution_count": 9,
   "metadata": {},
   "outputs": [],
   "source": [
    "def posterior_grid_approx(grid_points=5, \n",
    "                          successes=6, \n",
    "                          tosses=9,\n",
    "                          prior=np.repeat(5,5)):\n",
    "\n",
    "    # define grid\n",
    "    p_grid = np.linspace(0, 1, grid_points)\n",
    "\n",
    "    # define prior\n",
    "    # prior = np.repeat(5, grid_points)  # uniform\n",
    "    #prior = (p_grid >= 0.5).astype(int)  # truncated\n",
    "    #prior = np.exp(- 5 * abs(p_grid - 0.5))  # double exp\n",
    "\n",
    "    # compute likelihood at each point in the grid\n",
    "    # P(D|p=0), P(D|p=0.25), P(D|p=0.5), P(D|p=0.75), P(D|p=1.00)\n",
    "    likelihood = stats.binom.pmf(successes, tosses, p_grid)\n",
    "\n",
    "    # compute product of likelihood and prior\n",
    "    unstd_posterior = likelihood * prior\n",
    "\n",
    "    # standardize the posterior, so it sums to 1\n",
    "    posterior = unstd_posterior / unstd_posterior.sum()\n",
    "    return p_grid, posterior"
   ]
  },
  {
   "cell_type": "markdown",
   "metadata": {},
   "source": [
    "#### Code 2.3"
   ]
  },
  {
   "cell_type": "code",
   "execution_count": 11,
   "metadata": {},
   "outputs": [
    {
     "data": {
      "image/png": "[encoded data removed]",
      "text/plain": [
       "<matplotlib.figure.Figure at 0x114357e48>"
      ]
     },
     "metadata": {},
     "output_type": "display_data"
    }
   ],
   "source": [
    "def grid_approx_plot(\n",
    "    points=100, \n",
    "    w=6, \n",
    "    n=9,\n",
    "    prior=np.repeat(5,100)):\n",
    "    \n",
    "    p_grid, posterior = posterior_grid_approx(\n",
    "        grid_points=points,\n",
    "        successes=w,\n",
    "        tosses=n,\n",
    "        prior=prior\n",
    "    )\n",
    "    plt.plot(p_grid, posterior, 'o-', label='success = {}\\ntosses = {}'.format(w, n))\n",
    "    plt.xlabel('probability of water')\n",
    "    plt.ylabel('posterior probability')\n",
    "    plt.title('{} points'.format(points))\n",
    "    plt.legend(loc=0)\n",
    "    \n",
    "grid_approx_plot()"
   ]
  },
  {
   "cell_type": "markdown",
   "metadata": {},
   "source": [
    "#### Code 2.6\n",
    "\n",
    "Computing the posterior using the quadratic aproximation"
   ]
  },
  {
   "cell_type": "code",
   "execution_count": null,
   "metadata": {},
   "outputs": [],
   "source": [
    "data = np.repeat((0, 1), (3, 6))\n",
    "with pm.Model() as normal_aproximation:\n",
    "    p = pm.Uniform('p', 0, 1, transform=None)\n",
    "    w = pm.Binomial('w', n=len(data), p=p, observed=data.sum())\n",
    "    mean_q = pm.find_MAP()\n",
    "    std_q = ((1/pm.find_hessian(mean_q))**0.5)[0]\n",
    "mean_q['p'], std_q"
   ]
  },
  {
   "cell_type": "code",
   "execution_count": null,
   "metadata": {},
   "outputs": [],
   "source": [
    "norm = stats.norm(mean_q, std_q)\n",
    "prob = .89\n",
    "z = stats.norm.ppf([(1-prob)/2, (1+prob)/2])\n",
    "pi = mean_q['p'] + std_q * z \n",
    "pi"
   ]
  },
  {
   "cell_type": "markdown",
   "metadata": {},
   "source": [
    "#### Code 2.7"
   ]
  },
  {
   "cell_type": "code",
   "execution_count": null,
   "metadata": {},
   "outputs": [],
   "source": [
    "# analytical calculation\n",
    "w, n = 6, 9\n",
    "x = np.linspace(0, 1, 100)\n",
    "plt.plot(x, stats.beta.pdf(x , w+1, n-w+1), label='True posterior')\n",
    "# quadratic approximation\n",
    "plt.plot(x, stats.norm.pdf(x, mean_q['p'], std_q), label='Quadratic approximation')\n",
    "plt.legend(loc=0);"
   ]
  },
  {
   "cell_type": "code",
   "execution_count": null,
   "metadata": {
    "scrolled": true
   },
   "outputs": [],
   "source": [
    "import sys, IPython, scipy, matplotlib, platform\n",
    "print(\"This notebook was createad on a computer %s running %s and using:\\nPython %s\\nIPython %s\\nPyMC3 %s\\nNumPy %s\\nSciPy %s\\nMatplotlib %s\\nSeaborn %s\\n\" % (platform.machine(), ' '.join(platform.linux_distribution()[:2]), sys.version[:5], IPython.__version__, pm.__version__, np.__version__, scipy.__version__, matplotlib.__version__, sns.__version__))"
   ]
  },
  {
   "cell_type": "markdown",
   "metadata": {
    "collapsed": true
   },
   "source": [
    "# Practice Problems"
   ]
  },
  {
   "cell_type": "markdown",
   "metadata": {},
   "source": [
    "## 2E1. \n",
    "\n",
    "Which of the expressions below correspond to the statement: _the probability of rain on Monday_?\n",
    "\n",
    "(1) $Pr(rain)$\n",
    "* Nope. This is the averaged probability of rain. \n",
    "\n",
    "(2) $Pr(rain\\mid Monday)$\n",
    "* Yes. Given that it is Monday, what is the probability of rain?\n",
    "\n",
    "(3) $Pr(Monday \\mid rain)$\n",
    "* No. This is the probability of being Monday given that it is raining.\n",
    "\n",
    "(4) $Pr(rain, Monday) / Pr(Monday)$\n",
    "* Yes. This is equivalent to the second option."
   ]
  },
  {
   "cell_type": "markdown",
   "metadata": {},
   "source": [
    "## 2E2. \n",
    "\n",
    "Which of the expressions below correspond to the expression: $Pr(Monday \\mid rain)$?\n",
    "\n",
    "(1) The probability of rain on Monday.\n",
    "* No. This is $Pr(rain \\mid Monday)$.\n",
    "    \n",
    "(2) The probability of rain, given that it is Monday.\n",
    "* No. This is $Pr(rain \\mid Monday)$.\n",
    "    \n",
    "(3) The probability that it is Monday, given that it is raining.\n",
    "* Yes. This is $Pr(Monday \\mid rain)$.\n",
    "\n",
    "(4) The probability that it is Monday and that it is raining.\n",
    "* No. This is $Pr(Monday, rain)$."
   ]
  },
  {
   "cell_type": "markdown",
   "metadata": {},
   "source": [
    "## 2E3. \n",
    "\n",
    "Which of the expressions below correspond to the statement:  _the probability that it is Monday, given that it is raining_?\n",
    "\n",
    "(1) $Pr(Monday \\mid rain)$\n",
    "* Yes. By definition.\n",
    "    \n",
    "(2) $Pr(rain \\mid Monday)$\n",
    "* No. This is probability of rain given that it is a Monday.\n",
    "    \n",
    "(3) $Pr(rain\\mid Monday)Pr(Monday)$\n",
    "* No. This is equivalent to $Pr(rain, Monday)$, or the probability that it is raining and it is Monday.\n",
    "\n",
    "(4) $Pr(rain\\mid Monday)Pr(Monday) / Pr(rain)$\n",
    "* This is equivalent to $Pr(rain, Monday) / Pr(rain)$, which then simplifies to $Pr(Monday \\mid rain)$. So yes.\n",
    "\n",
    "(5) $Pr(Monday \\mid rain)Pr(rain) / Pr(Monday)$\n",
    "* This simplifies to $Pr(Monday, rain) / Pr(Monday) = Pr(rain \\mid Monday)$, so nope."
   ]
  },
  {
   "cell_type": "markdown",
   "metadata": {},
   "source": [
    "## 2E4. \n",
    "\n",
    "The Bayesian statistician Bruno de Finetti (1906-1985) began his book on probability theory with the declaration: \"PROBABILITY DOES NOT EXIST.\" The capitals appeared in the original, so I imagine de Finetti wanted us to shout this statement. What he meant is that probabilty is a device for describing uncertainty from the perspective of an observer with limited knowledge; it has no objective reality. Discuss the globe tossing example from the chapter, in light of this statement. What does it mean to say \"the probability of water is 0.7?\"\n",
    "\n",
    "Ans:\n",
    "\n",
    "I think he meant that probability only exists in the mind (i.e. in the real world, water is objectively some proportion of the whole Earth, assuming no global warming, etc.). However, our knowledge of the world, as in the globe tossing example, is limited. It might be because the instrument of measurement is imprecise (i.e. measurement error due to a big fat finger vs. an infinitesimally small point), or the model we're using is imperfect (i.e. the amount of water in the globe is suspended in time -- it does not reflect current effects of global warming). Probability is just a mathematical way for us to encode our uncertainty in our observations about the world. Saying \"the probability of water is 0.7\" acknowledges this uncertainty in light of the observer having limited knowledge."
   ]
  },
  {
   "cell_type": "markdown",
   "metadata": {
    "collapsed": true
   },
   "source": [
    "## 2M1.\n",
    "\n",
    "Recall the globe tossing model from the chapter. Compute nad plot the grid approximate posterior distribution for each of the following sets of observations. In each case, assume a uniform prior _p_.\n",
    "\n",
    "(1) W,W,W"
   ]
  },
  {
   "cell_type": "code",
   "execution_count": 13,
   "metadata": {
    "scrolled": true
   },
   "outputs": [
    {
     "data": {
      "image/png": "[encoded data removed]",
      "text/plain": [
       "<matplotlib.figure.Figure at 0x108d9e860>"
      ]
     },
     "metadata": {},
     "output_type": "display_data"
    }
   ],
   "source": [
    "grid_approx_plot(n=3,w=3, points=int(1e3), prior=np.repeat(5,int(1e3)) )"
   ]
  },
  {
   "cell_type": "markdown",
   "metadata": {},
   "source": [
    "(2) W,W,W,L"
   ]
  },
  {
   "cell_type": "code",
   "execution_count": 15,
   "metadata": {
    "scrolled": true
   },
   "outputs": [
    {
     "data": {
      "image/png": "[encoded data removed]",
      "text/plain": [
       "<matplotlib.figure.Figure at 0x108d9eb70>"
      ]
     },
     "metadata": {},
     "output_type": "display_data"
    }
   ],
   "source": [
    "grid_approx_plot(n=4,w=3, points=int(1e3), prior=np.repeat(5,int(1e3)) )"
   ]
  },
  {
   "cell_type": "markdown",
   "metadata": {},
   "source": [
    "(3) L,W,W,L,W,W,W"
   ]
  },
  {
   "cell_type": "code",
   "execution_count": 16,
   "metadata": {
    "scrolled": true
   },
   "outputs": [
    {
     "data": {
      "image/png": "[encoded data removed]",
      "text/plain": [
       "<matplotlib.figure.Figure at 0x114357f28>"
      ]
     },
     "metadata": {},
     "output_type": "display_data"
    }
   ],
   "source": [
    "grid_approx_plot(n=7,w=5, points=int(1e3), prior=np.repeat(5,int(1e3)))"
   ]
  },
  {
   "cell_type": "markdown",
   "metadata": {},
   "source": [
    "## 2M2.\n",
    "\n",
    "Now assume a prior for _p_ that is equal to zero when $p < 0.5$ and is a positive constant when $p >= 0.5$. Again, compute and plot the grid approximate posterior distribution for each of the sets of observations in the problem just above."
   ]
  },
  {
   "cell_type": "code",
   "execution_count": 18,
   "metadata": {
    "scrolled": true
   },
   "outputs": [
    {
     "data": {
      "image/png": "[encoded data removed]",
      "text/plain": [
       "<matplotlib.figure.Figure at 0x114919d68>"
      ]
     },
     "metadata": {},
     "output_type": "display_data"
    }
   ],
   "source": [
    "grid_approx_plot(\n",
    "    n=7,\n",
    "    w=5, \n",
    "    points=int(1e3), \n",
    "    prior=( np.linspace(0, 1, int(1e3)) >= 0.5).astype(int))"
   ]
  },
  {
   "cell_type": "markdown",
   "metadata": {},
   "source": [
    "## 2M3.\n",
    "\n",
    "Suppose there are two globes, one for Earth and one for Mars. The Earth globe is 70% covered in water. The Mars globe is 100% land. Further suppose that one of these globes--you don't know which--was tossed in the air and produced a \"land\" observation. Assume that each globe was equally likely to be tossed. Show that the posterior probability that the globe was the Earth, conditional on seeing \"land\" $Pr(\\text{Earth}\\mid\\text{land})$ is 0.23."
   ]
  },
  {
   "cell_type": "markdown",
   "metadata": {},
   "source": [
    "$Pr(\\text{water} \\mid \\text{Earth}) = 0.7$\n",
    "\n",
    "$Pr(\\text{land} \\mid \\text{Earth}) = 0.3$\n",
    "\n",
    "$Pr(\\text{Earth}) = 0.5$\n",
    "\n",
    "$Pr(\\text{land} \\mid \\text{Mars}) = 1.0$\n",
    "\n",
    "$Pr(\\text{Mars}) = 0.5$\n",
    "\n",
    "\\begin{equation}\n",
    "\\begin{aligned}\n",
    "    Pr(\\text{land}) &= Pr(\\text{land} \\mid \\text{Earth})Pr(\\text{Earth}) + Pr(\\text{land} \\mid \\text{Mars})Pr(\\text{Mars}) \\\\\n",
    "    &= 0.3 * 0.5 + 1.0 * 0.5 \\\\\n",
    "    &= 0.65\n",
    "\\end{aligned}\n",
    "\\end{equation}\n",
    "\n",
    "\n",
    "\\begin{equation}\n",
    "\\begin{aligned}\n",
    "    Pr(\\text{Earth} \\mid \\text{land}) &= \\frac{0.3 * 0.5}{0.65} \\\\\n",
    "    &= 0.23 \\\\\n",
    "\\end{aligned}\n",
    "\\end{equation}\n",
    "\n",
    "\n",
    "\n",
    "\n"
   ]
  },
  {
   "cell_type": "markdown",
   "metadata": {},
   "source": [
    "## 2M4.\n",
    "\n",
    "Suppose you have a deck with only three cards. Each card has two sides, and each side is either black or white. One card has two black sides. The second card has one black and one white side. The third card has two white sides. Now suppose all three cards are placed in a bag and shuffled. Someone reaches into the bag and pulls out a card and places it flat on a table. A black side is shown facing up, but you don't know the color of the side facing down. Show that the probability that the other side is also black is 2/3. Use the counting method (Section 2 of the chapter) to approach this problem. This means counting up the ways that each card could produce the observed data (a black side facing up on the table)."
   ]
  },
  {
   "cell_type": "markdown",
   "metadata": {},
   "source": [
    "Note: $B$ stands for black and $W$ stands for white. $B_1$ means that side 1 of a card is black. The left side is the side facing up (e.g. $B_2 \\mid B_1$ means that the second side is black and it is the one facing up, while the other side is also black).\n",
    "\n",
    "Here are the combinations:\n",
    "\n",
    "$B_1 \\mid B_2$ Black side is facing up and other side is black\n",
    "\n",
    "$B_2 \\mid B_1$ Black side is facing up and other side is black\n",
    "\n",
    "$B_1 \\mid W_2$ Black side is facing up, but other side is white.\n",
    "\n",
    "$W_2 \\mid B_1$ Not relevant, since white side up.\n",
    "\n",
    "$W_1 \\mid W_2$ Not relevant, since white side up.\n",
    "\n",
    "$W_2 \\mid W_1$ Not relevant, since white side up.\n",
    "\n",
    "There are three events consistent with \"Black side facing up,\" and only two of them is consistent with the the event \"other side is also black.\" Thus the probability that the other side is black, given that the known side is black is $2/3$."
   ]
  },
  {
   "cell_type": "markdown",
   "metadata": {},
   "source": [
    "## 2M5. \n",
    "\n",
    "Now suppose there are four cards: B/B, B/W, W/W, and another B/B. Again suppose a card is drawn from the bag and a black side appears face up. Again calculate the probability that the other side is black."
   ]
  },
  {
   "cell_type": "markdown",
   "metadata": {},
   "source": [
    "Previously:\n",
    "\n",
    "$B_1 \\mid B_2$ Black side is facing up and other side is black\n",
    "\n",
    "$B_2 \\mid B_1$ Black side is facing up and other side is black\n",
    "\n",
    "$B_1 \\mid W_2$ Black side is facing up, but other side is white.\n",
    "\n",
    "$W_2 \\mid B_1$ Not relevant, since white side up.\n",
    "\n",
    "$W_1 \\mid W_2$ Not relevant, since white side up.\n",
    "\n",
    "$W_2 \\mid W_1$ Not relevant, since white side up.\n",
    "\n",
    "New Data:\n",
    "\n",
    "$B_1 \\mid B_2$ Black side is facing up and other side is black\n",
    "\n",
    "$B_2 \\mid B_1$ Black side is facing up and other side is black\n",
    "\n",
    "There are now five events consistent with \"Black side facing up,\" and four of them is consistent with the the event \"other side is also black,\" so the probability of the other side being black, given that the side being shown is black is $4/5$."
   ]
  },
  {
   "cell_type": "markdown",
   "metadata": {},
   "source": [
    "## 2M6.\n",
    "\n",
    "Imagine that the black ink is heavy, and so cards with black sides are heavier than cards with white sides. As a result, it's less likely that a card with black sides is pulled from the bag. So again assume there are three cards: B/B, B/W, and W/W. After experimenting a number of times, you conclude that for every way to pull the B/B card from the bag there are 2 ways to pull the B/W card and 3 ways to pull the W/W card. Again suppose that a card is pulled and a black side appears face up. Show that the probability the other side is black is now 0.5. Use the counting method, as before."
   ]
  },
  {
   "cell_type": "markdown",
   "metadata": {},
   "source": [
    "A probabilistically equal statement to this is if we pretend to have the bag have one $B/B$ card, two $B/W$ and three $W/W$.\n",
    "\n",
    "$B/B$ gives us two ways of picking a black side up: $B_1 / B_2$ and $B_2 / B_1$.\n",
    "\n",
    "If we pick one of the $B/W$ cards, there is one way that a card has black side up: $B_1$. However, because picking up a $B/W$ is twice as likely as picking up a $B/B$, then there are $2\\times 1 = 2$ ways to get a card where we know that one side is black.\n",
    "\n",
    "There are $4$ total ways of picking a black card, but only half of them has black on the other side. Therefore the probability that the other side is black, given that a black side is face up, is 0.5."
   ]
  },
  {
   "cell_type": "markdown",
   "metadata": {},
   "source": [
    "## 2M7. \n",
    "\n",
    "Assume again the original card problem, with a single card showing a black side face up. Before looking at the other side, we draw another card from the bag and lay it face up on the table. The face that is shown on the new card is white. Show that the probability that the first card, the one showing a black side, has black on its other side is now 0.75. Use the counting method, if you can. Hint: Treat this like the sequence of globe tosses, counting all the ways to see each observation, for each possible first card."
   ]
  },
  {
   "cell_type": "markdown",
   "metadata": {},
   "source": [
    "$B_1 \\mid B_2$ -> $W_1 \\mid B_2$ Black on the other side.\n",
    "\n",
    "$B_1 \\mid B_2$ -> $W_1 \\mid W_2$ Black on the other side.\n",
    "\n",
    "$B_1 \\mid B_2$ -> $W_2 \\mid W_1$ Black on the other side.\n",
    "\n",
    "$B_2 \\mid B_1$ -> $W_1 \\mid B_2$ Black on the other side.\n",
    "\n",
    "$B_2 \\mid B_1$ -> $W_1 \\mid W_2$ Black on the other side.\n",
    "\n",
    "$B_2 \\mid B_1$ -> $W_2 \\mid W_1$ Black on the other side.\n",
    "\n",
    "$B_1 \\mid W_2$ -> $W_1 \\mid W_2$ Not black on the other side.\n",
    "\n",
    "$B_1 \\mid W_2$ -> $W_2 \\mid W_1$ Not black on the other side.\n",
    "\n",
    "Given that the second card has white face-up and the first card has black face-up, the probability that the first card's other side is black is 0.75.\n"
   ]
  },
  {
   "cell_type": "markdown",
   "metadata": {},
   "source": [
    "## 2H1. \n",
    "\n",
    "Suppose there are two species of panda bear. Both are equally common in the wild and live in the same places. They look exactly alike and eat the same food, and there is yet no genetic assay capable of telling them apart. They differ however in their family sizes. Species A gives birth to twins 10% of the time, otherwise birthing a single infant. Species B births twins 20% of the time, otherwise birthing singleton infants. Assume these numbers are known with certainty, from many years of field research.\n",
    "\n",
    "Now suppose you are managing a captive panda breeding program. You have a new female panda of unknown species, and she has just given birth to twins. What is the probability that her next birth will also be twins?"
   ]
  },
  {
   "cell_type": "markdown",
   "metadata": {},
   "source": [
    "Note: $C_1=2$ stands for twins during the first birthing event, $C_2=1$ stands for a singleton infant during the second birthing event. $S=a$ means that the species which gave birth was from Species A.\n",
    "\n",
    "$P(C_1=2 \\mid S=a) = 0.1$\n",
    "\n",
    "$P(C_1=1 \\mid S=a) = 0.9$\n",
    "\n",
    "$P(C_1=2 \\mid S=b) = 0.2$\n",
    "\n",
    "$P(C_1=1 \\mid S=b) = 0.8$\n",
    "\n",
    "$P(S=a) = 0.5$\n",
    "\n",
    "$P(S=b) = 0.5$\n",
    "\n",
    "$$\n",
    "\\begin{equation}\n",
    "    \\begin{aligned}\n",
    "        P(S=a \\mid C_1=2) &= \\frac{P(C_1=2 \\mid S=a)P(S=a)}{P(C_1=2)} \\\\\n",
    "        &= \\frac{0.05}{0.05+0.1} \\\\\n",
    "        &= \\frac{1}{3} \\\\\n",
    "    \\end{aligned}\n",
    "\\end{equation}\n",
    "$$\n",
    "\n",
    "$$\n",
    "\\begin{equation}\n",
    "    \\begin{aligned}\n",
    "        P(S=b \\mid C_1=2) &= 1 - P(S=a \\mid C_1=2) \\\\\n",
    "        &= \\frac{2}{3}\n",
    "    \\end{aligned}\n",
    "\\end{equation}\n",
    "$$\n",
    "\n",
    "$$\n",
    "\\begin{equation}\n",
    "    \\begin{aligned}\n",
    "        P(C_2=2 \\mid C_1=2) &= \\sum_S P(C_2=2, S, \\mid C_1=2) \\\\\n",
    "        &= P(C_2=2, S=a \\mid C_1=2) + P(C_2=2, S=b \\mid C_1=2) \\\\\n",
    "        &= P(C_2=2 \\mid S=a, C_1=2)P(S=a \\mid C_1=2) \\\\ \n",
    "        &\\quad+ P(C_2=2 \\mid S=b, C_1=2)P(S=b \\mid C_1=2) \\\\\n",
    "        &= P(C_2=2 \\mid S=a)P(S=a \\mid C_1=2) \\\\\n",
    "        &\\quad+ P(C_2=2 \\mid S=b)P(S=b \\mid C_1=2) \\\\\n",
    "        &= \\frac{1}{10} \\times \\frac{1}{3} + \\frac{2}{10} \\times \\frac{2}{3} \\\\\n",
    "        &= \\frac{1}{30} + \\frac{4}{30} \\\\ \n",
    "        &= \\frac{1}{6}\n",
    "    \\end{aligned}\n",
    "\\end{equation}\n",
    "$$\n"
   ]
  },
  {
   "cell_type": "markdown",
   "metadata": {},
   "source": [
    "## 2H2. \n",
    "\n",
    "Recall all the facts from the problem above. Now compute the probability that the panda we have is from species A, assuming we have observed only the first birth and that it was twins."
   ]
  },
  {
   "cell_type": "markdown",
   "metadata": {},
   "source": [
    "$$\n",
    "\\begin{equation}\n",
    "    \\begin{aligned}\n",
    "        P(S=a \\mid C_1=2) &= \\frac{P(C_1=2 \\mid S=a)P(S=a)}{P(C_1=2)} \\\\\n",
    "        &= \\frac{0.05}{0.05+0.1} \\\\\n",
    "        &= \\frac{1}{3} \\\\\n",
    "    \\end{aligned}\n",
    "\\end{equation}\n",
    "$$"
   ]
  },
  {
   "cell_type": "markdown",
   "metadata": {},
   "source": [
    "## 2H3.\n",
    "\n",
    "Continuing on from the previous problem, suppose the same panda mother has a second birth and that it is not twins, but a singleton infant. Compute the posterior probability that this panda is species A."
   ]
  },
  {
   "cell_type": "markdown",
   "metadata": {},
   "source": [
    "$$\n",
    "\\begin{equation}\n",
    "    \\begin{aligned}\n",
    "        P(S=a \\mid C_2=1, C_1=2) &= \\frac{P(C_2=1, C_1=2 \\mid S=a)P(S=a)}{P(C_2=1, C_1=2)} \\\\\n",
    "        &= \\frac{P(C_2=1 \\mid S=a)P(C_1=2 \\mid S=a)P(S=a)}{P(C_2=1, C_1=2)} \\\\\n",
    "        &= \\frac{P(C_2=1 \\mid S=a)P(C_1=2 \\mid S=a)P(S=a)}{P(C_2=1 \\mid S=a)P(C_1=2 \\mid S=a)P(S=a) + P(C_2=1 \\mid S=b)P(C_1=2 \\mid S=b)P(S=b)} \\\\\n",
    "        &= \\frac{0.9 \\times 0.1 \\times 0.5}{0.9 \\times 0.1 \\times 0.5 + 0.8 \\times 0.2 \\times 0.5} \\\\\n",
    "        &= 0.36\n",
    "    \\end{aligned}\n",
    "\\end{equation}\n",
    "$$\n",
    "\n"
   ]
  },
  {
   "cell_type": "markdown",
   "metadata": {},
   "source": [
    "## 2H4.\n",
    "\n",
    "A common boast of Bayesian statisticians is that Bayesian inference makes it easy to use all the data, even if the data are of different types.\n",
    "\n",
    "So suppose now that a veterinarian comes along who has a new genetic test that she claims can identify the species of our mother panda. But the test, like all tests, is imperfect. This in the information you have about the test:\n",
    "\n",
    "* The probability it correctly identifies a species A panda is 0.8.\n",
    "* The probability it correctly identifies a species B panda is 0.65.\n",
    "\n",
    "The vet adinisters the test to your panda and tells you that the test is positive for species A. First ignore your previous information from the births and compute the posterior probability that your panda is species A. Then redo your calculation now using the birth data as well."
   ]
  },
  {
   "cell_type": "markdown",
   "metadata": {},
   "source": [
    "Let $T$ stand for the test result.\n",
    "\n",
    "$P(T=a \\mid S=a) = 0.8$\n",
    "\n",
    "$P(T=b \\mid S=b) = 0.65$, therefore: $P(T=a \\mid S=b) = 0.35$.\n",
    "\n",
    "Without birth data:\n",
    "\n",
    "$$\n",
    "\\begin{equation}\n",
    "    \\begin{aligned}\n",
    "        P(S=a \\mid T=a) &= \\frac{P(T=a \\mid S=a)P(S=a)}{P(T=a)} \\\\\n",
    "        &= \\frac{P(T=a \\mid S=a)P(S=a)}{P(T=a \\mid S=a)P(S=a) + P(T=a \\mid S=b)P(S=b)} \\\\\n",
    "        &= \\frac{0.8 \\times 0.5}{0.8 \\times 0.5 + 0.35 \\times 0.5} \\\\\n",
    "        &= \\frac{0.8}{1.15} \\\\\n",
    "        &\\approx 0.70\n",
    "    \\end{aligned}\n",
    "\\end{equation}\n",
    "$$\n",
    "\n",
    "With birth data:\n",
    "\n",
    "We use the posterior of the previous answer $P(S=a \\mid C_2=1, C_1=2) = 0.36$ as the new prior $P(S=a)$:\n",
    "\n",
    "$$\n",
    "\\begin{equation}\n",
    "    \\begin{aligned}\n",
    "        P(S=a \\mid T=a) &= \\frac{P(T=a \\mid S=a)P(S=a)}{P(T=a)} \\\\\n",
    "        &= \\frac{P(T=a \\mid S=a)P(S=a)}{P(T=a \\mid S=a)P(S=a) + P(T=a \\mid S=b)P(S=b)} \\\\\n",
    "        &= \\frac{0.8 \\times 0.36}{0.8 \\times 0.36 + 0.35 \\times 0.64} \\\\\n",
    "        &\\approx 0.56\n",
    "    \\end{aligned}\n",
    "\\end{equation}\n",
    "$$\n",
    "\n"
   ]
  },
  {
   "cell_type": "code",
   "execution_count": null,
   "metadata": {
    "collapsed": true
   },
   "outputs": [],
   "source": []
  }
 ],
 "metadata": {
  "kernelspec": {
   "display_name": "Python 3",
   "language": "python",
   "name": "python3"
  },
  "language_info": {
   "codemirror_mode": {
    "name": "ipython",
    "version": 3
   },
   "file_extension": ".py",
   "mimetype": "text/x-python",
   "name": "python",
   "nbconvert_exporter": "python",
   "pygments_lexer": "ipython3",
   "version": "3.6.1"
  }
 },
 "nbformat": 4,
 "nbformat_minor": 1
}
